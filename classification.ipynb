{
 "cells": [
  {
   "cell_type": "markdown",
   "id": "a32147d4",
   "metadata": {},
   "source": [
    "## Exercise 1: Logistic regression with Scikit-learn"
   ]
  },
  {
   "cell_type": "code",
   "execution_count": 6,
   "id": "5c95fdfb",
   "metadata": {},
   "outputs": [],
   "source": [
    "import numpy as np\n",
    "from sklearn.linear_model import LogisticRegression"
   ]
  },
  {
   "cell_type": "code",
   "execution_count": 7,
   "id": "f721afb2",
   "metadata": {},
   "outputs": [],
   "source": [
    "X = np.array([[0],[0.1],[0.2], [1],[1.1],[1.2], [1.3]])\n",
    "y = np.array([0,0,0,1,1,1,0])"
   ]
  },
  {
   "cell_type": "code",
   "execution_count": 8,
   "id": "ebdd0f91",
   "metadata": {},
   "outputs": [
    {
     "data": {
      "text/html": [
       "<style>#sk-container-id-1 {\n",
       "  /* Definition of color scheme common for light and dark mode */\n",
       "  --sklearn-color-text: #000;\n",
       "  --sklearn-color-text-muted: #666;\n",
       "  --sklearn-color-line: gray;\n",
       "  /* Definition of color scheme for unfitted estimators */\n",
       "  --sklearn-color-unfitted-level-0: #fff5e6;\n",
       "  --sklearn-color-unfitted-level-1: #f6e4d2;\n",
       "  --sklearn-color-unfitted-level-2: #ffe0b3;\n",
       "  --sklearn-color-unfitted-level-3: chocolate;\n",
       "  /* Definition of color scheme for fitted estimators */\n",
       "  --sklearn-color-fitted-level-0: #f0f8ff;\n",
       "  --sklearn-color-fitted-level-1: #d4ebff;\n",
       "  --sklearn-color-fitted-level-2: #b3dbfd;\n",
       "  --sklearn-color-fitted-level-3: cornflowerblue;\n",
       "\n",
       "  /* Specific color for light theme */\n",
       "  --sklearn-color-text-on-default-background: var(--sg-text-color, var(--theme-code-foreground, var(--jp-content-font-color1, black)));\n",
       "  --sklearn-color-background: var(--sg-background-color, var(--theme-background, var(--jp-layout-color0, white)));\n",
       "  --sklearn-color-border-box: var(--sg-text-color, var(--theme-code-foreground, var(--jp-content-font-color1, black)));\n",
       "  --sklearn-color-icon: #696969;\n",
       "\n",
       "  @media (prefers-color-scheme: dark) {\n",
       "    /* Redefinition of color scheme for dark theme */\n",
       "    --sklearn-color-text-on-default-background: var(--sg-text-color, var(--theme-code-foreground, var(--jp-content-font-color1, white)));\n",
       "    --sklearn-color-background: var(--sg-background-color, var(--theme-background, var(--jp-layout-color0, #111)));\n",
       "    --sklearn-color-border-box: var(--sg-text-color, var(--theme-code-foreground, var(--jp-content-font-color1, white)));\n",
       "    --sklearn-color-icon: #878787;\n",
       "  }\n",
       "}\n",
       "\n",
       "#sk-container-id-1 {\n",
       "  color: var(--sklearn-color-text);\n",
       "}\n",
       "\n",
       "#sk-container-id-1 pre {\n",
       "  padding: 0;\n",
       "}\n",
       "\n",
       "#sk-container-id-1 input.sk-hidden--visually {\n",
       "  border: 0;\n",
       "  clip: rect(1px 1px 1px 1px);\n",
       "  clip: rect(1px, 1px, 1px, 1px);\n",
       "  height: 1px;\n",
       "  margin: -1px;\n",
       "  overflow: hidden;\n",
       "  padding: 0;\n",
       "  position: absolute;\n",
       "  width: 1px;\n",
       "}\n",
       "\n",
       "#sk-container-id-1 div.sk-dashed-wrapped {\n",
       "  border: 1px dashed var(--sklearn-color-line);\n",
       "  margin: 0 0.4em 0.5em 0.4em;\n",
       "  box-sizing: border-box;\n",
       "  padding-bottom: 0.4em;\n",
       "  background-color: var(--sklearn-color-background);\n",
       "}\n",
       "\n",
       "#sk-container-id-1 div.sk-container {\n",
       "  /* jupyter's `normalize.less` sets `[hidden] { display: none; }`\n",
       "     but bootstrap.min.css set `[hidden] { display: none !important; }`\n",
       "     so we also need the `!important` here to be able to override the\n",
       "     default hidden behavior on the sphinx rendered scikit-learn.org.\n",
       "     See: https://github.com/scikit-learn/scikit-learn/issues/21755 */\n",
       "  display: inline-block !important;\n",
       "  position: relative;\n",
       "}\n",
       "\n",
       "#sk-container-id-1 div.sk-text-repr-fallback {\n",
       "  display: none;\n",
       "}\n",
       "\n",
       "div.sk-parallel-item,\n",
       "div.sk-serial,\n",
       "div.sk-item {\n",
       "  /* draw centered vertical line to link estimators */\n",
       "  background-image: linear-gradient(var(--sklearn-color-text-on-default-background), var(--sklearn-color-text-on-default-background));\n",
       "  background-size: 2px 100%;\n",
       "  background-repeat: no-repeat;\n",
       "  background-position: center center;\n",
       "}\n",
       "\n",
       "/* Parallel-specific style estimator block */\n",
       "\n",
       "#sk-container-id-1 div.sk-parallel-item::after {\n",
       "  content: \"\";\n",
       "  width: 100%;\n",
       "  border-bottom: 2px solid var(--sklearn-color-text-on-default-background);\n",
       "  flex-grow: 1;\n",
       "}\n",
       "\n",
       "#sk-container-id-1 div.sk-parallel {\n",
       "  display: flex;\n",
       "  align-items: stretch;\n",
       "  justify-content: center;\n",
       "  background-color: var(--sklearn-color-background);\n",
       "  position: relative;\n",
       "}\n",
       "\n",
       "#sk-container-id-1 div.sk-parallel-item {\n",
       "  display: flex;\n",
       "  flex-direction: column;\n",
       "}\n",
       "\n",
       "#sk-container-id-1 div.sk-parallel-item:first-child::after {\n",
       "  align-self: flex-end;\n",
       "  width: 50%;\n",
       "}\n",
       "\n",
       "#sk-container-id-1 div.sk-parallel-item:last-child::after {\n",
       "  align-self: flex-start;\n",
       "  width: 50%;\n",
       "}\n",
       "\n",
       "#sk-container-id-1 div.sk-parallel-item:only-child::after {\n",
       "  width: 0;\n",
       "}\n",
       "\n",
       "/* Serial-specific style estimator block */\n",
       "\n",
       "#sk-container-id-1 div.sk-serial {\n",
       "  display: flex;\n",
       "  flex-direction: column;\n",
       "  align-items: center;\n",
       "  background-color: var(--sklearn-color-background);\n",
       "  padding-right: 1em;\n",
       "  padding-left: 1em;\n",
       "}\n",
       "\n",
       "\n",
       "/* Toggleable style: style used for estimator/Pipeline/ColumnTransformer box that is\n",
       "clickable and can be expanded/collapsed.\n",
       "- Pipeline and ColumnTransformer use this feature and define the default style\n",
       "- Estimators will overwrite some part of the style using the `sk-estimator` class\n",
       "*/\n",
       "\n",
       "/* Pipeline and ColumnTransformer style (default) */\n",
       "\n",
       "#sk-container-id-1 div.sk-toggleable {\n",
       "  /* Default theme specific background. It is overwritten whether we have a\n",
       "  specific estimator or a Pipeline/ColumnTransformer */\n",
       "  background-color: var(--sklearn-color-background);\n",
       "}\n",
       "\n",
       "/* Toggleable label */\n",
       "#sk-container-id-1 label.sk-toggleable__label {\n",
       "  cursor: pointer;\n",
       "  display: flex;\n",
       "  width: 100%;\n",
       "  margin-bottom: 0;\n",
       "  padding: 0.5em;\n",
       "  box-sizing: border-box;\n",
       "  text-align: center;\n",
       "  align-items: start;\n",
       "  justify-content: space-between;\n",
       "  gap: 0.5em;\n",
       "}\n",
       "\n",
       "#sk-container-id-1 label.sk-toggleable__label .caption {\n",
       "  font-size: 0.6rem;\n",
       "  font-weight: lighter;\n",
       "  color: var(--sklearn-color-text-muted);\n",
       "}\n",
       "\n",
       "#sk-container-id-1 label.sk-toggleable__label-arrow:before {\n",
       "  /* Arrow on the left of the label */\n",
       "  content: \"▸\";\n",
       "  float: left;\n",
       "  margin-right: 0.25em;\n",
       "  color: var(--sklearn-color-icon);\n",
       "}\n",
       "\n",
       "#sk-container-id-1 label.sk-toggleable__label-arrow:hover:before {\n",
       "  color: var(--sklearn-color-text);\n",
       "}\n",
       "\n",
       "/* Toggleable content - dropdown */\n",
       "\n",
       "#sk-container-id-1 div.sk-toggleable__content {\n",
       "  max-height: 0;\n",
       "  max-width: 0;\n",
       "  overflow: hidden;\n",
       "  text-align: left;\n",
       "  /* unfitted */\n",
       "  background-color: var(--sklearn-color-unfitted-level-0);\n",
       "}\n",
       "\n",
       "#sk-container-id-1 div.sk-toggleable__content.fitted {\n",
       "  /* fitted */\n",
       "  background-color: var(--sklearn-color-fitted-level-0);\n",
       "}\n",
       "\n",
       "#sk-container-id-1 div.sk-toggleable__content pre {\n",
       "  margin: 0.2em;\n",
       "  border-radius: 0.25em;\n",
       "  color: var(--sklearn-color-text);\n",
       "  /* unfitted */\n",
       "  background-color: var(--sklearn-color-unfitted-level-0);\n",
       "}\n",
       "\n",
       "#sk-container-id-1 div.sk-toggleable__content.fitted pre {\n",
       "  /* unfitted */\n",
       "  background-color: var(--sklearn-color-fitted-level-0);\n",
       "}\n",
       "\n",
       "#sk-container-id-1 input.sk-toggleable__control:checked~div.sk-toggleable__content {\n",
       "  /* Expand drop-down */\n",
       "  max-height: 200px;\n",
       "  max-width: 100%;\n",
       "  overflow: auto;\n",
       "}\n",
       "\n",
       "#sk-container-id-1 input.sk-toggleable__control:checked~label.sk-toggleable__label-arrow:before {\n",
       "  content: \"▾\";\n",
       "}\n",
       "\n",
       "/* Pipeline/ColumnTransformer-specific style */\n",
       "\n",
       "#sk-container-id-1 div.sk-label input.sk-toggleable__control:checked~label.sk-toggleable__label {\n",
       "  color: var(--sklearn-color-text);\n",
       "  background-color: var(--sklearn-color-unfitted-level-2);\n",
       "}\n",
       "\n",
       "#sk-container-id-1 div.sk-label.fitted input.sk-toggleable__control:checked~label.sk-toggleable__label {\n",
       "  background-color: var(--sklearn-color-fitted-level-2);\n",
       "}\n",
       "\n",
       "/* Estimator-specific style */\n",
       "\n",
       "/* Colorize estimator box */\n",
       "#sk-container-id-1 div.sk-estimator input.sk-toggleable__control:checked~label.sk-toggleable__label {\n",
       "  /* unfitted */\n",
       "  background-color: var(--sklearn-color-unfitted-level-2);\n",
       "}\n",
       "\n",
       "#sk-container-id-1 div.sk-estimator.fitted input.sk-toggleable__control:checked~label.sk-toggleable__label {\n",
       "  /* fitted */\n",
       "  background-color: var(--sklearn-color-fitted-level-2);\n",
       "}\n",
       "\n",
       "#sk-container-id-1 div.sk-label label.sk-toggleable__label,\n",
       "#sk-container-id-1 div.sk-label label {\n",
       "  /* The background is the default theme color */\n",
       "  color: var(--sklearn-color-text-on-default-background);\n",
       "}\n",
       "\n",
       "/* On hover, darken the color of the background */\n",
       "#sk-container-id-1 div.sk-label:hover label.sk-toggleable__label {\n",
       "  color: var(--sklearn-color-text);\n",
       "  background-color: var(--sklearn-color-unfitted-level-2);\n",
       "}\n",
       "\n",
       "/* Label box, darken color on hover, fitted */\n",
       "#sk-container-id-1 div.sk-label.fitted:hover label.sk-toggleable__label.fitted {\n",
       "  color: var(--sklearn-color-text);\n",
       "  background-color: var(--sklearn-color-fitted-level-2);\n",
       "}\n",
       "\n",
       "/* Estimator label */\n",
       "\n",
       "#sk-container-id-1 div.sk-label label {\n",
       "  font-family: monospace;\n",
       "  font-weight: bold;\n",
       "  display: inline-block;\n",
       "  line-height: 1.2em;\n",
       "}\n",
       "\n",
       "#sk-container-id-1 div.sk-label-container {\n",
       "  text-align: center;\n",
       "}\n",
       "\n",
       "/* Estimator-specific */\n",
       "#sk-container-id-1 div.sk-estimator {\n",
       "  font-family: monospace;\n",
       "  border: 1px dotted var(--sklearn-color-border-box);\n",
       "  border-radius: 0.25em;\n",
       "  box-sizing: border-box;\n",
       "  margin-bottom: 0.5em;\n",
       "  /* unfitted */\n",
       "  background-color: var(--sklearn-color-unfitted-level-0);\n",
       "}\n",
       "\n",
       "#sk-container-id-1 div.sk-estimator.fitted {\n",
       "  /* fitted */\n",
       "  background-color: var(--sklearn-color-fitted-level-0);\n",
       "}\n",
       "\n",
       "/* on hover */\n",
       "#sk-container-id-1 div.sk-estimator:hover {\n",
       "  /* unfitted */\n",
       "  background-color: var(--sklearn-color-unfitted-level-2);\n",
       "}\n",
       "\n",
       "#sk-container-id-1 div.sk-estimator.fitted:hover {\n",
       "  /* fitted */\n",
       "  background-color: var(--sklearn-color-fitted-level-2);\n",
       "}\n",
       "\n",
       "/* Specification for estimator info (e.g. \"i\" and \"?\") */\n",
       "\n",
       "/* Common style for \"i\" and \"?\" */\n",
       "\n",
       ".sk-estimator-doc-link,\n",
       "a:link.sk-estimator-doc-link,\n",
       "a:visited.sk-estimator-doc-link {\n",
       "  float: right;\n",
       "  font-size: smaller;\n",
       "  line-height: 1em;\n",
       "  font-family: monospace;\n",
       "  background-color: var(--sklearn-color-background);\n",
       "  border-radius: 1em;\n",
       "  height: 1em;\n",
       "  width: 1em;\n",
       "  text-decoration: none !important;\n",
       "  margin-left: 0.5em;\n",
       "  text-align: center;\n",
       "  /* unfitted */\n",
       "  border: var(--sklearn-color-unfitted-level-1) 1pt solid;\n",
       "  color: var(--sklearn-color-unfitted-level-1);\n",
       "}\n",
       "\n",
       ".sk-estimator-doc-link.fitted,\n",
       "a:link.sk-estimator-doc-link.fitted,\n",
       "a:visited.sk-estimator-doc-link.fitted {\n",
       "  /* fitted */\n",
       "  border: var(--sklearn-color-fitted-level-1) 1pt solid;\n",
       "  color: var(--sklearn-color-fitted-level-1);\n",
       "}\n",
       "\n",
       "/* On hover */\n",
       "div.sk-estimator:hover .sk-estimator-doc-link:hover,\n",
       ".sk-estimator-doc-link:hover,\n",
       "div.sk-label-container:hover .sk-estimator-doc-link:hover,\n",
       ".sk-estimator-doc-link:hover {\n",
       "  /* unfitted */\n",
       "  background-color: var(--sklearn-color-unfitted-level-3);\n",
       "  color: var(--sklearn-color-background);\n",
       "  text-decoration: none;\n",
       "}\n",
       "\n",
       "div.sk-estimator.fitted:hover .sk-estimator-doc-link.fitted:hover,\n",
       ".sk-estimator-doc-link.fitted:hover,\n",
       "div.sk-label-container:hover .sk-estimator-doc-link.fitted:hover,\n",
       ".sk-estimator-doc-link.fitted:hover {\n",
       "  /* fitted */\n",
       "  background-color: var(--sklearn-color-fitted-level-3);\n",
       "  color: var(--sklearn-color-background);\n",
       "  text-decoration: none;\n",
       "}\n",
       "\n",
       "/* Span, style for the box shown on hovering the info icon */\n",
       ".sk-estimator-doc-link span {\n",
       "  display: none;\n",
       "  z-index: 9999;\n",
       "  position: relative;\n",
       "  font-weight: normal;\n",
       "  right: .2ex;\n",
       "  padding: .5ex;\n",
       "  margin: .5ex;\n",
       "  width: min-content;\n",
       "  min-width: 20ex;\n",
       "  max-width: 50ex;\n",
       "  color: var(--sklearn-color-text);\n",
       "  box-shadow: 2pt 2pt 4pt #999;\n",
       "  /* unfitted */\n",
       "  background: var(--sklearn-color-unfitted-level-0);\n",
       "  border: .5pt solid var(--sklearn-color-unfitted-level-3);\n",
       "}\n",
       "\n",
       ".sk-estimator-doc-link.fitted span {\n",
       "  /* fitted */\n",
       "  background: var(--sklearn-color-fitted-level-0);\n",
       "  border: var(--sklearn-color-fitted-level-3);\n",
       "}\n",
       "\n",
       ".sk-estimator-doc-link:hover span {\n",
       "  display: block;\n",
       "}\n",
       "\n",
       "/* \"?\"-specific style due to the `<a>` HTML tag */\n",
       "\n",
       "#sk-container-id-1 a.estimator_doc_link {\n",
       "  float: right;\n",
       "  font-size: 1rem;\n",
       "  line-height: 1em;\n",
       "  font-family: monospace;\n",
       "  background-color: var(--sklearn-color-background);\n",
       "  border-radius: 1rem;\n",
       "  height: 1rem;\n",
       "  width: 1rem;\n",
       "  text-decoration: none;\n",
       "  /* unfitted */\n",
       "  color: var(--sklearn-color-unfitted-level-1);\n",
       "  border: var(--sklearn-color-unfitted-level-1) 1pt solid;\n",
       "}\n",
       "\n",
       "#sk-container-id-1 a.estimator_doc_link.fitted {\n",
       "  /* fitted */\n",
       "  border: var(--sklearn-color-fitted-level-1) 1pt solid;\n",
       "  color: var(--sklearn-color-fitted-level-1);\n",
       "}\n",
       "\n",
       "/* On hover */\n",
       "#sk-container-id-1 a.estimator_doc_link:hover {\n",
       "  /* unfitted */\n",
       "  background-color: var(--sklearn-color-unfitted-level-3);\n",
       "  color: var(--sklearn-color-background);\n",
       "  text-decoration: none;\n",
       "}\n",
       "\n",
       "#sk-container-id-1 a.estimator_doc_link.fitted:hover {\n",
       "  /* fitted */\n",
       "  background-color: var(--sklearn-color-fitted-level-3);\n",
       "}\n",
       "</style><div id=\"sk-container-id-1\" class=\"sk-top-container\"><div class=\"sk-text-repr-fallback\"><pre>LogisticRegression()</pre><b>In a Jupyter environment, please rerun this cell to show the HTML representation or trust the notebook. <br />On GitHub, the HTML representation is unable to render, please try loading this page with nbviewer.org.</b></div><div class=\"sk-container\" hidden><div class=\"sk-item\"><div class=\"sk-estimator fitted sk-toggleable\"><input class=\"sk-toggleable__control sk-hidden--visually\" id=\"sk-estimator-id-1\" type=\"checkbox\" checked><label for=\"sk-estimator-id-1\" class=\"sk-toggleable__label fitted sk-toggleable__label-arrow\"><div><div>LogisticRegression</div></div><div><a class=\"sk-estimator-doc-link fitted\" rel=\"noreferrer\" target=\"_blank\" href=\"https://scikit-learn.org/1.6/modules/generated/sklearn.linear_model.LogisticRegression.html\">?<span>Documentation for LogisticRegression</span></a><span class=\"sk-estimator-doc-link fitted\">i<span>Fitted</span></span></div></label><div class=\"sk-toggleable__content fitted\"><pre>LogisticRegression()</pre></div> </div></div></div></div>"
      ],
      "text/plain": [
       "LogisticRegression()"
      ]
     },
     "execution_count": 8,
     "metadata": {},
     "output_type": "execute_result"
    }
   ],
   "source": [
    "clf = LogisticRegression(solver='lbfgs')\n",
    "clf.fit(X, y)"
   ]
  },
  {
   "cell_type": "code",
   "execution_count": 9,
   "id": "84be6eed",
   "metadata": {},
   "outputs": [
    {
     "name": "stdout",
     "output_type": "stream",
     "text": [
      "Predicted class for x_pred: [0]\n",
      "Predicted class for x_pred: 0\n"
     ]
    }
   ],
   "source": [
    "x_pred = np.array([[0.5]])\n",
    "pred_class = clf.predict(x_pred)\n",
    "print(\"Predicted class for x_pred:\", pred_class)\n",
    "print(\"Predicted class for x_pred:\", pred_class[0])"
   ]
  },
  {
   "cell_type": "code",
   "execution_count": 10,
   "id": "cb3800f6",
   "metadata": {},
   "outputs": [
    {
     "name": "stdout",
     "output_type": "stream",
     "text": [
      "Predicted probabilities for x_pred: [0.61450206 0.38549794]\n"
     ]
    }
   ],
   "source": [
    "pred_proba = clf.predict_proba(x_pred)[0]\n",
    "print(\"Predicted probabilities for x_pred:\", pred_proba)"
   ]
  },
  {
   "cell_type": "code",
   "execution_count": 11,
   "id": "0554e26e",
   "metadata": {},
   "outputs": [
    {
     "name": "stdout",
     "output_type": "stream",
     "text": [
      "Coefficient:\n",
      " [[0.81793264]]\n",
      "Intercept:\n",
      " [-0.87524276]\n",
      "Score:\n",
      " 0.7142857142857143\n"
     ]
    }
   ],
   "source": [
    "print(\"Coefficient:\\n\", clf.coef_)\n",
    "print(\"Intercept:\\n\", clf.intercept_)\n",
    "print(\"Score:\\n\", clf.score(X, y))"
   ]
  },
  {
   "cell_type": "markdown",
   "id": "c450305c",
   "metadata": {},
   "source": [
    "## Exercise 2: Sigmoid"
   ]
  },
  {
   "cell_type": "code",
   "execution_count": 12,
   "id": "ffd1ac40",
   "metadata": {},
   "outputs": [],
   "source": [
    "import numpy as np\n",
    "import matplotlib.pyplot as plt"
   ]
  },
  {
   "cell_type": "code",
   "execution_count": 13,
   "id": "aa230674",
   "metadata": {},
   "outputs": [
    {
     "data": {
      "image/png": "[encoded data removed]",
      "text/plain": [
       "<Figure size 640x480 with 1 Axes>"
      ]
     },
     "metadata": {},
     "output_type": "display_data"
    }
   ],
   "source": [
    "x = np.linspace(-20, 15, 200)\n",
    "sigmoid = 1 / (1 + np.exp(-x))\n",
    "sigmoid1 = 1 / (1 + np.exp(-(0.5 * x + 3)))\n",
    "sigmoid2 = 1 / (1 + np.exp(-(5 * x + 11)))\n",
    "\n",
    "plt.plot(x, sigmoid, label='sigmoid(x)')\n",
    "plt.plot(x, sigmoid1, label='sigmoid1(x) = 1/(1+exp(-(0.5x+3)))')\n",
    "plt.plot(x, sigmoid2, label='sigmoid2(x) = 1/(1+exp(-(5x+11)))')\n",
    "plt.plot([-20, 15], [0.5, 0.5], color='red', linewidth=2)  # horizontal red line at y=0.5\n",
    "plt.title(\"Sigmoid Functions\")\n",
    "plt.xlabel(\"x\")\n",
    "plt.ylabel(\"Value\")\n",
    "\n",
    "plt.show()"
   ]
  },
  {
   "cell_type": "markdown",
   "id": "099b7afb",
   "metadata": {},
   "source": [
    "## Exercise 3: Decision boundary"
   ]
  },
  {
   "cell_type": "code",
   "execution_count": 14,
   "id": "dc14eea8",
   "metadata": {},
   "outputs": [],
   "source": [
    "from sklearn.datasets import make_classification\n",
    "import numpy as np\n",
    "import matplotlib.pyplot as plt\n",
    "\n",
    "X, y = make_classification(\n",
    "    n_samples=100,\n",
    "    n_features=1,\n",
    "    n_informative=1,\n",
    "    n_redundant=0,\n",
    "    n_repeated=0,\n",
    "    n_classes=2,\n",
    "    n_clusters_per_class=1,\n",
    "    weights=[0.5,0.5],\n",
    "    flip_y=0.15,\n",
    "    class_sep=2.0,\n",
    "    hypercube=True,\n",
    "    shift=1.0,\n",
    "    scale=1.0,\n",
    "    shuffle=True,\n",
    "    random_state=88\n",
    ")"
   ]
  },
  {
   "cell_type": "code",
   "execution_count": 15,
   "id": "1a5bc391",
   "metadata": {},
   "outputs": [
    {
     "data": {
      "image/png": "[encoded data removed]",
      "text/plain": [
       "<Figure size 640x480 with 1 Axes>"
      ]
     },
     "metadata": {},
     "output_type": "display_data"
    }
   ],
   "source": [
    "plt.scatter(X, y, c=y, cmap='bwr', edgecolor='k')\n",
    "plt.xlabel('Feature')\n",
    "plt.ylabel('Target')\n",
    "plt.title('Scatter plot of generated data')\n",
    "plt.show()"
   ]
  },
  {
   "cell_type": "code",
   "execution_count": 16,
   "id": "eb2ab999",
   "metadata": {},
   "outputs": [
    {
     "name": "stdout",
     "output_type": "stream",
     "text": [
      "Coefficient: [[1.18885765]]\n",
      "Intercept: [-0.98497516]\n"
     ]
    }
   ],
   "source": [
    "from sklearn.linear_model import LogisticRegression\n",
    "\n",
    "clf = LogisticRegression()\n",
    "clf.fit(X, y)\n",
    "\n",
    "print(\"Coefficient:\", clf.coef_)\n",
    "print(\"Intercept:\", clf.intercept_)"
   ]
  },
  {
   "cell_type": "code",
   "execution_count": 17,
   "id": "d263d203",
   "metadata": {},
   "outputs": [
    {
     "data": {
      "image/png": "[encoded data removed]",
      "text/plain": [
       "<Figure size 640x480 with 1 Axes>"
      ]
     },
     "metadata": {},
     "output_type": "display_data"
    }
   ],
   "source": [
    "x_plot = np.linspace(X.min()-1, X.max()+1, 200).reshape(-1, 1)\n",
    "y_prob = clf.predict_proba(x_plot)[:, 1]\n",
    "\n",
    "plt.scatter(X, y, c=y, cmap='bwr', edgecolor='k', label='Data')\n",
    "plt.plot(x_plot, y_prob, color='green', label='Fitted sigmoid')\n",
    "plt.plot([X.min()-1, X.max()+1], [0.5, 0.5], color='red', linestyle='-', label='0.5 probability line')\n",
    "plt.xlabel('X')\n",
    "plt.ylabel('y')\n",
    "plt.title('Logistic Regression Decision Boundary')\n",
    "plt.show()"
   ]
  },
  {
   "cell_type": "code",
   "execution_count": 18,
   "id": "11a9a993",
   "metadata": {},
   "outputs": [],
   "source": [
    "def predict_probability(coefs, X):\n",
    "    a, b = coefs\n",
    "    X = X.reshape(-1)\n",
    "    probabilities = 1 / (1 + np.exp(-(a * X + b)))\n",
    "    return probabilities"
   ]
  },
  {
   "cell_type": "code",
   "execution_count": 19,
   "id": "719bd3e9",
   "metadata": {},
   "outputs": [
    {
     "name": "stdout",
     "output_type": "stream",
     "text": [
      "Manual probabilities match sklearn: True\n"
     ]
    }
   ],
   "source": [
    "manual_probs = predict_probability([clf.coef_[0][0], clf.intercept_[0]], X)\n",
    "sklearn_probs = clf.predict_proba(X)[:, 1]\n",
    "print(\"Manual probabilities match sklearn:\", np.allclose(manual_probs, sklearn_probs))"
   ]
  },
  {
   "cell_type": "code",
   "execution_count": 20,
   "id": "eef5a891",
   "metadata": {},
   "outputs": [],
   "source": [
    "def predict_class(coefs, X):\n",
    "    a, b = coefs\n",
    "    X = X.reshape(-1)\n",
    "    probabilities = 1 / (1 + np.exp(-(a * X + b)))\n",
    "    classes = (probabilities >= 0.5).astype(int)\n",
    "    return classes"
   ]
  },
  {
   "cell_type": "code",
   "execution_count": 21,
   "id": "7a666eb6",
   "metadata": {},
   "outputs": [
    {
     "name": "stdout",
     "output_type": "stream",
     "text": [
      "Manual classes match sklearn: True\n"
     ]
    }
   ],
   "source": [
    "manual_classes = predict_class([clf.coef_[0][0], clf.intercept_[0]], X)\n",
    "sklearn_classes = clf.predict(X)\n",
    "print(\"Manual classes match sklearn:\", np.array_equal(manual_classes, sklearn_classes))"
   ]
  },
  {
   "cell_type": "code",
   "execution_count": 22,
   "id": "a97c8ba5",
   "metadata": {},
   "outputs": [
    {
     "data": {
      "image/png": "[encoded data removed]",
      "text/plain": [
       "<Figure size 640x480 with 1 Axes>"
      ]
     },
     "metadata": {},
     "output_type": "display_data"
    }
   ],
   "source": [
    "plt.scatter(X, y, c=y, cmap='bwr', edgecolor='k', label='True class')\n",
    "plt.plot(x_plot, y_prob, color='orange', label='Fitted sigmoid')\n",
    "plt.plot([X.min()-1, X.max()+1], [0.5, 0.5], color='red', linestyle='-', label='0.5 probability line')\n",
    "\n",
    "plt.scatter(X, manual_classes * 0.8 + 0.1, c=manual_classes, cmap='bwr', marker='o', label='Predicted class (shifted)')\n",
    "\n",
    "plt.xlabel('X')\n",
    "plt.ylabel('y')\n",
    "plt.title('X (1 dimension) and y')\n",
    "plt.show()"
   ]
  },
  {
   "cell_type": "code",
   "execution_count": 23,
   "id": "8d9f8ce9",
   "metadata": {},
   "outputs": [
    {
     "data": {
      "image/png": "[encoded data removed]",
      "text/plain": [
       "<Figure size 800x600 with 2 Axes>"
      ]
     },
     "metadata": {},
     "output_type": "display_data"
    }
   ],
   "source": [
    "from sklearn.datasets import make_classification\n",
    "from sklearn.linear_model import LogisticRegression\n",
    "import numpy as np\n",
    "import matplotlib.pyplot as plt\n",
    "\n",
    "# Generate 2D data\n",
    "X, y = make_classification(\n",
    "    n_features=2,\n",
    "    n_redundant=0,\n",
    "    n_samples=250,\n",
    "    n_classes=2,\n",
    "    n_clusters_per_class=1,\n",
    "    flip_y=0.05,\n",
    "    class_sep=3,\n",
    "    random_state=43\n",
    ")\n",
    "\n",
    "# Fit logistic regression\n",
    "clf = LogisticRegression()\n",
    "clf.fit(X, y)\n",
    "\n",
    "# Create grid for contour plot\n",
    "xx, yy = np.mgrid[-5:5:.01, -5:5:.01]\n",
    "grid = np.c_[xx.ravel(), yy.ravel()]\n",
    "probs = clf.predict_proba(grid)[:, 1].reshape(xx.shape)\n",
    "\n",
    "# Plot\n",
    "f, ax = plt.subplots(figsize=(8, 6))\n",
    "contour = ax.contourf(xx, yy, probs, 25, cmap=\"RdBu\", vmin=0, vmax=1)\n",
    "ax_c = f.colorbar(contour)\n",
    "ax_c.set_label(\"$P(y = 1)$\")\n",
    "ax_c.set_ticks([0, .25, .5, .75, 1])\n",
    "\n",
    "ax.scatter(X[:, 0], X[:, 1], c=y, s=50,\n",
    "           cmap=\"RdBu\", vmin=-.2, vmax=1.2,\n",
    "           edgecolor=\"white\", linewidth=1)\n",
    "\n",
    "ax.set(aspect=\"equal\",\n",
    "       xlim=(-5, 5), ylim=(-5, 5),\n",
    "       xlabel=\"$X_1$\", ylabel=\"$X_2$\")\n",
    "plt.show()"
   ]
  },
  {
   "cell_type": "markdown",
   "id": "8683f389",
   "metadata": {},
   "source": [
    "## Exercise 4: Train test split"
   ]
  },
  {
   "cell_type": "code",
   "execution_count": 24,
   "id": "b2e2e22b",
   "metadata": {},
   "outputs": [],
   "source": [
    "import numpy as np\n",
    "from sklearn.model_selection import train_test_split"
   ]
  },
  {
   "cell_type": "code",
   "execution_count": 25,
   "id": "bcc740dc",
   "metadata": {},
   "outputs": [],
   "source": [
    "X = np.arange(1, 21).reshape(10, -1)\n",
    "y = np.zeros(10)\n",
    "y[7:] = 1"
   ]
  },
  {
   "cell_type": "code",
   "execution_count": 26,
   "id": "25884ff0",
   "metadata": {},
   "outputs": [],
   "source": [
    "X_train, X_test, y_train, y_test = train_test_split(X, y, test_size=0.2, shuffle=False)"
   ]
  },
  {
   "cell_type": "code",
   "execution_count": 27,
   "id": "3aff705f",
   "metadata": {},
   "outputs": [
    {
     "name": "stdout",
     "output_type": "stream",
     "text": [
      "X_train:\n",
      " [[ 1  2]\n",
      " [ 3  4]\n",
      " [ 5  6]\n",
      " [ 7  8]\n",
      " [ 9 10]\n",
      " [11 12]\n",
      " [13 14]\n",
      " [15 16]]\n",
      "y_train: [0. 0. 0. 0. 0. 0. 0. 1.]\n",
      "X_test:\n",
      " [[17 18]\n",
      " [19 20]]\n",
      "y_test: [1. 1.]\n"
     ]
    }
   ],
   "source": [
    "print(\"X_train:\\n\", X_train)\n",
    "print(\"y_train:\", y_train)\n",
    "print(\"X_test:\\n\", X_test)\n",
    "print(\"y_test:\", y_test)"
   ]
  },
  {
   "cell_type": "code",
   "execution_count": 28,
   "id": "ef5df241",
   "metadata": {},
   "outputs": [],
   "source": [
    "X = np.arange(1, 201).reshape(100, -1)\n",
    "y = np.zeros(100)\n",
    "y[70:] = 1"
   ]
  },
  {
   "cell_type": "code",
   "execution_count": 29,
   "id": "12941a99",
   "metadata": {},
   "outputs": [],
   "source": [
    "X_train, X_test, y_train, y_test = train_test_split(\n",
    "    X, y, test_size=0.2, random_state=42, stratify=y\n",
    ")"
   ]
  },
  {
   "cell_type": "code",
   "execution_count": 30,
   "id": "d981a2db",
   "metadata": {},
   "outputs": [
    {
     "name": "stdout",
     "output_type": "stream",
     "text": [
      "Proportion of class 1 in train: 0.3\n",
      "Proportion of class 1 in test: 0.3\n"
     ]
    }
   ],
   "source": [
    "print(\"Proportion of class 1 in train:\", np.mean(y_train))\n",
    "print(\"Proportion of class 1 in test:\", np.mean(y_test))"
   ]
  },
  {
   "cell_type": "markdown",
   "id": "14636a36",
   "metadata": {},
   "source": [
    "## Exercise 5: Breast Cancer prediction"
   ]
  },
  {
   "cell_type": "code",
   "execution_count": 31,
   "id": "dcbc5230",
   "metadata": {},
   "outputs": [],
   "source": [
    "import pandas as pd\n",
    "import numpy as np\n",
    "\n",
    "columns = [\n",
    "    \"Sample_code_number\", \"Clump_Thickness\", \"Uniformity_Cell_Size\", \"Uniformity_Cell_Shape\",\n",
    "    \"Marginal_Adhesion\", \"Single_Epithelial_Cell_Size\", \"Bare_Nuclei\",\n",
    "    \"Bland_Chromatin\", \"Normal_Nucleoli\", \"Mitoses\", \"Class\"\n",
    "]\n",
    "\n",
    "df = pd.read_csv(\"breast-cancer-wisconsin.data\", names=columns)"
   ]
  },
  {
   "cell_type": "code",
   "execution_count": 32,
   "id": "96c155e0",
   "metadata": {},
   "outputs": [
    {
     "name": "stdout",
     "output_type": "stream",
     "text": [
      "First 5 rows:\n",
      "    Sample_code_number  Clump_Thickness  Uniformity_Cell_Size  \\\n",
      "0             1000025                5                     1   \n",
      "1             1002945                5                     4   \n",
      "2             1015425                3                     1   \n",
      "3             1016277                6                     8   \n",
      "4             1017023                4                     1   \n",
      "\n",
      "   Uniformity_Cell_Shape  Marginal_Adhesion  Single_Epithelial_Cell_Size  \\\n",
      "0                      1                  1                            2   \n",
      "1                      4                  5                            7   \n",
      "2                      1                  1                            2   \n",
      "3                      8                  1                            3   \n",
      "4                      1                  3                            2   \n",
      "\n",
      "  Bare_Nuclei  Bland_Chromatin  Normal_Nucleoli  Mitoses  Class  \n",
      "0           1                3                1        1      2  \n",
      "1          10                3                2        1      2  \n",
      "2           2                3                1        1      2  \n",
      "3           4                3                7        1      2  \n",
      "4           1                3                1        1      2  \n"
     ]
    }
   ],
   "source": [
    "print(\"First 5 rows:\\n\", df.head())"
   ]
  },
  {
   "cell_type": "code",
   "execution_count": 33,
   "id": "ecd449e7",
   "metadata": {},
   "outputs": [
    {
     "name": "stdout",
     "output_type": "stream",
     "text": [
      "\n",
      "Data shape: (699, 11)\n"
     ]
    }
   ],
   "source": [
    "print(\"\\nData shape:\", df.shape)"
   ]
  },
  {
   "cell_type": "code",
   "execution_count": 34,
   "id": "bad353ab",
   "metadata": {},
   "outputs": [
    {
     "name": "stdout",
     "output_type": "stream",
     "text": [
      "\n",
      "Missing values per column:\n",
      " Sample_code_number              0\n",
      "Clump_Thickness                 0\n",
      "Uniformity_Cell_Size            0\n",
      "Uniformity_Cell_Shape           0\n",
      "Marginal_Adhesion               0\n",
      "Single_Epithelial_Cell_Size     0\n",
      "Bare_Nuclei                    16\n",
      "Bland_Chromatin                 0\n",
      "Normal_Nucleoli                 0\n",
      "Mitoses                         0\n",
      "Class                           0\n",
      "dtype: int64\n"
     ]
    }
   ],
   "source": [
    "print(\"\\nMissing values per column:\\n\", df.isin(['?']).sum())"
   ]
  },
  {
   "cell_type": "code",
   "execution_count": 35,
   "id": "0b834709",
   "metadata": {},
   "outputs": [
    {
     "name": "stdout",
     "output_type": "stream",
     "text": [
      "Sample_code_number              int64\n",
      "Clump_Thickness                 int64\n",
      "Uniformity_Cell_Size            int64\n",
      "Uniformity_Cell_Shape           int64\n",
      "Marginal_Adhesion               int64\n",
      "Single_Epithelial_Cell_Size     int64\n",
      "Bare_Nuclei                    object\n",
      "Bland_Chromatin                 int64\n",
      "Normal_Nucleoli                 int64\n",
      "Mitoses                         int64\n",
      "Class                           int64\n",
      "dtype: object\n"
     ]
    }
   ],
   "source": [
    "print(df.dtypes)"
   ]
  },
  {
   "cell_type": "code",
   "execution_count": 36,
   "id": "91e53221",
   "metadata": {},
   "outputs": [
    {
     "name": "stderr",
     "output_type": "stream",
     "text": [
      "/tmp/ipykernel_2263/2176110650.py:3: FutureWarning: errors='ignore' is deprecated and will raise in a future version. Use to_numeric without passing `errors` and catch exceptions explicitly instead\n",
      "  df[col] = pd.to_numeric(df[col], errors='ignore')\n"
     ]
    }
   ],
   "source": [
    "df.replace('?', np.nan, inplace=True)\n",
    "for col in df.columns:\n",
    "    df[col] = pd.to_numeric(df[col], errors='ignore')\n",
    "\n",
    "df['Bare_Nuclei'] = df['Bare_Nuclei'].fillna(df['Bare_Nuclei'].median())\n",
    "\n",
    "df = df.drop(\"Sample_code_number\", axis=1)"
   ]
  },
  {
   "cell_type": "code",
   "execution_count": 37,
   "id": "79429186",
   "metadata": {},
   "outputs": [
    {
     "name": "stdout",
     "output_type": "stream",
     "text": [
      "Any missing values left?\n",
      " Clump_Thickness                0\n",
      "Uniformity_Cell_Size           0\n",
      "Uniformity_Cell_Shape          0\n",
      "Marginal_Adhesion              0\n",
      "Single_Epithelial_Cell_Size    0\n",
      "Bare_Nuclei                    0\n",
      "Bland_Chromatin                0\n",
      "Normal_Nucleoli                0\n",
      "Mitoses                        0\n",
      "Class                          0\n",
      "dtype: int64\n"
     ]
    }
   ],
   "source": [
    "print(\"Any missing values left?\\n\", df.isnull().sum())"
   ]
  },
  {
   "cell_type": "code",
   "execution_count": 38,
   "id": "9bae7103",
   "metadata": {},
   "outputs": [
    {
     "name": "stdout",
     "output_type": "stream",
     "text": [
      "\n",
      "Data types:\n",
      " Clump_Thickness                  int64\n",
      "Uniformity_Cell_Size             int64\n",
      "Uniformity_Cell_Shape            int64\n",
      "Marginal_Adhesion                int64\n",
      "Single_Epithelial_Cell_Size      int64\n",
      "Bare_Nuclei                    float64\n",
      "Bland_Chromatin                  int64\n",
      "Normal_Nucleoli                  int64\n",
      "Mitoses                          int64\n",
      "Class                            int64\n",
      "dtype: object\n"
     ]
    }
   ],
   "source": [
    "print(\"\\nData types:\\n\", df.dtypes)"
   ]
  },
  {
   "cell_type": "code",
   "execution_count": 39,
   "id": "82e93518",
   "metadata": {},
   "outputs": [],
   "source": [
    "prop_benign = np.mean(df['Class'] == 2)"
   ]
  },
  {
   "cell_type": "code",
   "execution_count": 40,
   "id": "6b6bbbae",
   "metadata": {},
   "outputs": [
    {
     "name": "stdout",
     "output_type": "stream",
     "text": [
      "Proportion of class Benign: 0.6552217453505007\n"
     ]
    }
   ],
   "source": [
    "print(\"Proportion of class Benign:\", prop_benign)"
   ]
  },
  {
   "cell_type": "code",
   "execution_count": 41,
   "id": "2bf871cb",
   "metadata": {},
   "outputs": [
    {
     "name": "stdout",
     "output_type": "stream",
     "text": [
      "Accuracy if always predict Benign: 0.6552217453505007\n"
     ]
    }
   ],
   "source": [
    "print(\"Accuracy if always predict Benign:\", prop_benign)"
   ]
  },
  {
   "cell_type": "code",
   "execution_count": 42,
   "id": "bc0daec0",
   "metadata": {},
   "outputs": [
    {
     "name": "stdout",
     "output_type": "stream",
     "text": [
      "Class distribution:\n",
      " Class\n",
      "2    458\n",
      "4    241\n",
      "Name: count, dtype: int64\n"
     ]
    }
   ],
   "source": [
    "print(\"Class distribution:\\n\", df['Class'].value_counts())"
   ]
  },
  {
   "cell_type": "code",
   "execution_count": 43,
   "id": "a3d5b144",
   "metadata": {},
   "outputs": [
    {
     "name": "stdout",
     "output_type": "stream",
     "text": [
      "Proportion of class Benign in train: 0.6547406082289803\n",
      "Proportion of class Benign in test: 0.6571428571428571\n",
      "Train set shape: (559, 9)\n",
      "Test set shape: (140, 9)\n"
     ]
    }
   ],
   "source": [
    "from sklearn.model_selection import train_test_split\n",
    "\n",
    "X = df.drop(\"Class\", axis=1)\n",
    "y = df[\"Class\"]\n",
    "\n",
    "\n",
    "X_train, X_test, y_train, y_test = train_test_split(\n",
    "    X, y, test_size=0.2, random_state=43, stratify=y\n",
    ")\n",
    "\n",
    "print(\"Proportion of class Benign in train:\", np.mean(y_train == 2))\n",
    "print(\"Proportion of class Benign in test:\", np.mean(y_test == 2))\n",
    "print(\"Train set shape:\", X_train.shape)\n",
    "print(\"Test set shape:\", X_test.shape)"
   ]
  },
  {
   "cell_type": "code",
   "execution_count": 44,
   "id": "a096f2c8",
   "metadata": {},
   "outputs": [
    {
     "name": "stdout",
     "output_type": "stream",
     "text": [
      "# Train\n",
      "Class prediction on train set:\n",
      " [1 0 1 0 0 0 0 1 0 0]\n",
      "\n",
      "Probability prediction on train set:\n",
      " [0.99600525 0.00908951 0.99992741 0.00528932 0.02098032 0.00582947\n",
      " 0.03566504 0.99515453 0.00788556 0.01065907]\n",
      "\n",
      "Score on train set:\n",
      " 0.9695885509838998\n",
      "\n",
      "# Test\n",
      "Class prediction on test set:\n",
      " [0 0 0 1 0 1 0 0 0 1]\n",
      "\n",
      "Probability prediction on test set:\n",
      " [0.01747894 0.22504709 0.00699085 0.54019127 0.00152929 0.9986223\n",
      " 0.33611399 0.01228123 0.00438318 0.99972361]\n",
      "\n",
      "Score on test set:\n",
      " 0.9642857142857143\n"
     ]
    }
   ],
   "source": [
    "\n",
    "from sklearn.linear_model import LogisticRegression\n",
    "\n",
    "# Logistic regression expects binary targets; map 2->0 (Benign), 4->1 (Malignant)\n",
    "y_train_bin = (y_train == 4).astype(int)\n",
    "y_test_bin = (y_test == 4).astype(int)\n",
    "\n",
    "clf = LogisticRegression(max_iter=1000, random_state=43)\n",
    "clf.fit(X_train, y_train_bin)\n",
    "\n",
    "# Show first 10 predictions and probabilities for train set\n",
    "print(\"# Train\")\n",
    "print(\"Class prediction on train set:\\n\", clf.predict(X_train)[:10])\n",
    "print(\"\\nProbability prediction on train set:\\n\", clf.predict_proba(X_train)[:10, 1])\n",
    "print(\"\\nScore on train set:\\n\", clf.score(X_train, y_train_bin))\n",
    "\n",
    "# Show first 10 predictions and probabilities for test set\n",
    "print(\"\\n# Test\")\n",
    "print(\"Class prediction on test set:\\n\", clf.predict(X_test)[:10])\n",
    "print(\"\\nProbability prediction on test set:\\n\", clf.predict_proba(X_test)[:10, 1])\n",
    "print(\"\\nScore on test set:\\n\", clf.score(X_test, y_test_bin))"
   ]
  },
  {
   "cell_type": "code",
   "execution_count": 45,
   "id": "37462f06",
   "metadata": {},
   "outputs": [
    {
     "name": "stdout",
     "output_type": "stream",
     "text": [
      "# Train\n",
      "Class prediction on train set:\n",
      " [4 2 4 2 2 2 2 4 2 2]\n",
      "\n",
      "Probability prediction on train set:\n",
      " [0.99600525 0.00908951 0.99992741 0.00528932 0.02098032 0.00582947\n",
      " 0.03566504 0.99515453 0.00788556 0.01065907]\n",
      "\n",
      "Score on train set:\n",
      " 0.9695885509838998\n",
      "\n",
      "# Test\n",
      "Class prediction on test set:\n",
      " [2 2 2 4 2 4 2 2 2 4]\n",
      "\n",
      "Probability prediction on test set:\n",
      " [0.01747894 0.22504709 0.00699085 0.54019127 0.00152929 0.9986223\n",
      " 0.33611399 0.01228123 0.00438318 0.99972361]\n",
      "\n",
      "Score on test set:\n",
      " 0.9642857142857143\n"
     ]
    }
   ],
   "source": [
    "train_pred = clf.predict(X_train)\n",
    "test_pred = clf.predict(X_test)\n",
    "\n",
    "# Map 0 -> 2 (Benign), 1 -> 4 (Malignant)\n",
    "train_pred_orig = np.where(train_pred == 0, 2, 4)\n",
    "test_pred_orig = np.where(test_pred == 0, 2, 4)\n",
    "\n",
    "print(\"# Train\")\n",
    "print(\"Class prediction on train set:\\n\", train_pred_orig[:10])\n",
    "print(\"\\nProbability prediction on train set:\\n\", clf.predict_proba(X_train)[:10, 1])\n",
    "print(\"\\nScore on train set:\\n\", clf.score(X_train, y_train_bin))\n",
    "\n",
    "print(\"\\n# Test\")\n",
    "print(\"Class prediction on test set:\\n\", test_pred_orig[:10])\n",
    "print(\"\\nProbability prediction on test set:\\n\", clf.predict_proba(X_test)[:10, 1])\n",
    "print(\"\\nScore on test set:\\n\", clf.score(X_test, y_test_bin))"
   ]
  },
  {
   "cell_type": "code",
   "execution_count": 46,
   "id": "57c52058",
   "metadata": {},
   "outputs": [
    {
     "name": "stdout",
     "output_type": "stream",
     "text": [
      "All test set predictions (2=benign, 4=malignant):\n",
      "[2 2 2 4 2 4 2 2 2 4 4 4 2 2 4 2 2 4 2 2 2 2 2 2 4 2 2 2 2 4 2 4 2 2 4 2 2\n",
      " 2 4 2 4 4 2 2 2 2 2 2 4 2 4 2 2 2 4 4 2 4 2 4 2 2 2 2 4 2 2 4 4 2 2 2 2 2\n",
      " 2 2 4 2 2 2 2 4 2 4 4 4 2 2 2 4 4 4 2 4 2 4 4 4 2 2 2 2 2 2 4 4 4 2 2 2 2\n",
      " 4 2 2 2 2 4 2 2 2 2 4 2 2 4 4 2 4 2 2 4 4 2 2 2 2 4 2 2 2]\n"
     ]
    }
   ],
   "source": [
    "print(\"All test set predictions (2=benign, 4=malignant):\")\n",
    "print(test_pred_orig)"
   ]
  },
  {
   "cell_type": "code",
   "execution_count": null,
   "id": "78452397",
   "metadata": {},
   "outputs": [],
   "source": []
  }
 ],
 "metadata": {
  "kernelspec": {
   "display_name": "ex00",
   "language": "python",
   "name": "python3"
  },
  "language_info": {
   "codemirror_mode": {
    "name": "ipython",
    "version": 3
   },
   "file_extension": ".py",
   "mimetype": "text/x-python",
   "name": "python",
   "nbconvert_exporter": "python",
   "pygments_lexer": "ipython3",
   "version": "3.9.23"
  }
 },
 "nbformat": 4,
 "nbformat_minor": 5
}
