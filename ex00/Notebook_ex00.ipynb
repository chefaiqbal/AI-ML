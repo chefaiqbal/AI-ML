{
 "cells": [
  {
   "cell_type": "markdown",
   "id": "6760c55d-fbd6-4b31-ba2c-49c1713f1df7",
   "metadata": {},
   "source": [
    "# H1 TITLE\n",
    "## H2 TITLE"
   ]
  },
  {
   "cell_type": "code",
   "execution_count": 1,
   "id": "2891bd4e-9536-40e4-9f41-f38fee04b81e",
   "metadata": {},
   "outputs": [
    {
     "name": "stdout",
     "output_type": "stream",
     "text": [
      "Buy the dip ?\n"
     ]
    }
   ],
   "source": [
    "print(\"Buy the dip ?\")"
   ]
  },
  {
   "cell_type": "markdown",
   "id": "5485a831-da97-4a6a-842b-10ef599a9dc3",
   "metadata": {},
   "source": [
    "# Exercise 1: \n",
    "## Your first NumPy array"
   ]
  },
  {
   "cell_type": "code",
   "execution_count": 2,
   "id": "3adee7f2-4555-4e6e-805d-bf3c001bacf7",
   "metadata": {},
   "outputs": [
    {
     "name": "stdout",
     "output_type": "stream",
     "text": [
      "<class 'int'>\n",
      "<class 'float'>\n",
      "<class 'str'>\n",
      "<class 'dict'>\n",
      "<class 'list'>\n",
      "<class 'tuple'>\n",
      "<class 'set'>\n",
      "<class 'bool'>\n"
     ]
    }
   ],
   "source": [
    "import numpy as np\n",
    "\n",
    "\n",
    "my_np_array = np.array([\n",
    "    42,                          # integer\n",
    "    3.14,                        # float\n",
    "    \"hello\",                     # string\n",
    "    {\"key\": \"value\"},            # dictionary\n",
    "    [1, 2, 3],                   # list\n",
    "    (4, 5, 6),                   # tuple\n",
    "    {7, 8, 9},                   # set\n",
    "    True                         # boolean\n",
    "], dtype=object)\n",
    "\n",
    "for i in my_np_array:\n",
    "    print(type(i))"
   ]
  },
  {
   "cell_type": "markdown",
   "id": "553fa73f-ce41-43c5-a21d-48ade801d45a",
   "metadata": {},
   "source": [
    "# Exercise 2: \n",
    "## Zeros"
   ]
  },
  {
   "cell_type": "code",
   "execution_count": 3,
   "id": "03025920-8fd7-4961-a070-c6be59c7943e",
   "metadata": {},
   "outputs": [],
   "source": [
    "import numpy as np\n",
    "\n",
    "zeros_array = np.zeros(300, dtype=int)"
   ]
  },
  {
   "cell_type": "code",
   "execution_count": 4,
   "id": "e8879912-5ee8-4d7d-b5d8-fec212fd05c4",
   "metadata": {},
   "outputs": [
    {
     "name": "stdout",
     "output_type": "stream",
     "text": [
      "[0 0 0 0 0 0 0 0 0 0 0 0 0 0 0 0 0 0 0 0 0 0 0 0 0 0 0 0 0 0 0 0 0 0 0 0 0\n",
      " 0 0 0 0 0 0 0 0 0 0 0 0 0 0 0 0 0 0 0 0 0 0 0 0 0 0 0 0 0 0 0 0 0 0 0 0 0\n",
      " 0 0 0 0 0 0 0 0 0 0 0 0 0 0 0 0 0 0 0 0 0 0 0 0 0 0 0 0 0 0 0 0 0 0 0 0 0\n",
      " 0 0 0 0 0 0 0 0 0 0 0 0 0 0 0 0 0 0 0 0 0 0 0 0 0 0 0 0 0 0 0 0 0 0 0 0 0\n",
      " 0 0 0 0 0 0 0 0 0 0 0 0 0 0 0 0 0 0 0 0 0 0 0 0 0 0 0 0 0 0 0 0 0 0 0 0 0\n",
      " 0 0 0 0 0 0 0 0 0 0 0 0 0 0 0 0 0 0 0 0 0 0 0 0 0 0 0 0 0 0 0 0 0 0 0 0 0\n",
      " 0 0 0 0 0 0 0 0 0 0 0 0 0 0 0 0 0 0 0 0 0 0 0 0 0 0 0 0 0 0 0 0 0 0 0 0 0\n",
      " 0 0 0 0 0 0 0 0 0 0 0 0 0 0 0 0 0 0 0 0 0 0 0 0 0 0 0 0 0 0 0 0 0 0 0 0 0\n",
      " 0 0 0 0]\n"
     ]
    }
   ],
   "source": [
    "print(zeros_array)"
   ]
  },
  {
   "cell_type": "markdown",
   "id": "0f385f19-1304-43c4-ba9d-6408f6d3eb15",
   "metadata": {},
   "source": [
    "## Reshape"
   ]
  },
  {
   "cell_type": "code",
   "execution_count": 5,
   "id": "3362baac-7e72-4ef9-bf90-01acade0916b",
   "metadata": {},
   "outputs": [],
   "source": [
    "reshaped_array = zeros_array.reshape(3, 100)"
   ]
  },
  {
   "cell_type": "code",
   "execution_count": 6,
   "id": "2036b32b-a49d-4e4f-809e-7ff758ef33e1",
   "metadata": {},
   "outputs": [
    {
     "name": "stdout",
     "output_type": "stream",
     "text": [
      "[[0 0 0 0 0 0 0 0 0 0 0 0 0 0 0 0 0 0 0 0 0 0 0 0 0 0 0 0 0 0 0 0 0 0 0 0\n",
      "  0 0 0 0 0 0 0 0 0 0 0 0 0 0 0 0 0 0 0 0 0 0 0 0 0 0 0 0 0 0 0 0 0 0 0 0\n",
      "  0 0 0 0 0 0 0 0 0 0 0 0 0 0 0 0 0 0 0 0 0 0 0 0 0 0 0 0]\n",
      " [0 0 0 0 0 0 0 0 0 0 0 0 0 0 0 0 0 0 0 0 0 0 0 0 0 0 0 0 0 0 0 0 0 0 0 0\n",
      "  0 0 0 0 0 0 0 0 0 0 0 0 0 0 0 0 0 0 0 0 0 0 0 0 0 0 0 0 0 0 0 0 0 0 0 0\n",
      "  0 0 0 0 0 0 0 0 0 0 0 0 0 0 0 0 0 0 0 0 0 0 0 0 0 0 0 0]\n",
      " [0 0 0 0 0 0 0 0 0 0 0 0 0 0 0 0 0 0 0 0 0 0 0 0 0 0 0 0 0 0 0 0 0 0 0 0\n",
      "  0 0 0 0 0 0 0 0 0 0 0 0 0 0 0 0 0 0 0 0 0 0 0 0 0 0 0 0 0 0 0 0 0 0 0 0\n",
      "  0 0 0 0 0 0 0 0 0 0 0 0 0 0 0 0 0 0 0 0 0 0 0 0 0 0 0 0]]\n"
     ]
    }
   ],
   "source": [
    "print (reshaped_array)"
   ]
  },
  {
   "cell_type": "markdown",
   "id": "af847c7d-517a-40f7-92a8-e63c40eacfa8",
   "metadata": {},
   "source": [
    "# Exercise 3: \n",
    "## Slicing"
   ]
  },
  {
   "cell_type": "markdown",
   "id": "beab9c38-d5fc-472d-9435-79ac03daf0d6",
   "metadata": {},
   "source": [
    "### 1 ~ 100"
   ]
  },
  {
   "cell_type": "code",
   "execution_count": 7,
   "id": "7b193bc7-3f0a-4118-9067-2803e8c870e6",
   "metadata": {},
   "outputs": [],
   "source": [
    "import numpy as np"
   ]
  },
  {
   "cell_type": "code",
   "execution_count": 8,
   "id": "b4413c9d-b896-4ec0-a70b-cab2fde472e4",
   "metadata": {},
   "outputs": [],
   "source": [
    "numbers = np.arange (1, 101, dtype=int)"
   ]
  },
  {
   "cell_type": "code",
   "execution_count": 9,
   "id": "02f90c7f-c48c-45cc-bfab-2c80fc6cfdb5",
   "metadata": {},
   "outputs": [
    {
     "name": "stdout",
     "output_type": "stream",
     "text": [
      "[  1   2   3   4   5   6   7   8   9  10  11  12  13  14  15  16  17  18\n",
      "  19  20  21  22  23  24  25  26  27  28  29  30  31  32  33  34  35  36\n",
      "  37  38  39  40  41  42  43  44  45  46  47  48  49  50  51  52  53  54\n",
      "  55  56  57  58  59  60  61  62  63  64  65  66  67  68  69  70  71  72\n",
      "  73  74  75  76  77  78  79  80  81  82  83  84  85  86  87  88  89  90\n",
      "  91  92  93  94  95  96  97  98  99 100]\n"
     ]
    }
   ],
   "source": [
    "print (numbers)"
   ]
  },
  {
   "cell_type": "markdown",
   "id": "5491ce43-9b44-4bfa-a347-2dc5cae7b5ca",
   "metadata": {},
   "source": [
    "### Odd integers"
   ]
  },
  {
   "cell_type": "code",
   "execution_count": 10,
   "id": "c8158d6a-c7bf-4ecb-9279-775f6f9cf7b2",
   "metadata": {},
   "outputs": [],
   "source": [
    "odd_numbers = numbers[numbers % 2 != 0]"
   ]
  },
  {
   "cell_type": "code",
   "execution_count": 11,
   "id": "7a076c78-4c4e-4ca7-b7f0-966de1fd3f5d",
   "metadata": {},
   "outputs": [
    {
     "name": "stdout",
     "output_type": "stream",
     "text": [
      "[ 1  3  5  7  9 11 13 15 17 19 21 23 25 27 29 31 33 35 37 39 41 43 45 47\n",
      " 49 51 53 55 57 59 61 63 65 67 69 71 73 75 77 79 81 83 85 87 89 91 93 95\n",
      " 97 99]\n"
     ]
    }
   ],
   "source": [
    "print (odd_numbers)"
   ]
  },
  {
   "cell_type": "markdown",
   "id": "5ea118d0-f0e4-44b4-97a7-dedd3bab76b1",
   "metadata": {},
   "source": [
    "### Even Reverse"
   ]
  },
  {
   "cell_type": "code",
   "execution_count": 12,
   "id": "0cb9e218-b0ed-4bce-8ab2-b3a070573dee",
   "metadata": {},
   "outputs": [],
   "source": [
    "even_numbers = numbers[numbers % 2 == 0]"
   ]
  },
  {
   "cell_type": "code",
   "execution_count": 13,
   "id": "e91496fd-5377-4f47-bb36-e946b4e51b28",
   "metadata": {},
   "outputs": [],
   "source": [
    "even_numbers_reversed = np.flip(even_numbers)"
   ]
  },
  {
   "cell_type": "code",
   "execution_count": 14,
   "id": "d92f687c-7e4f-470e-b635-dd7c119170ae",
   "metadata": {
    "scrolled": true
   },
   "outputs": [
    {
     "name": "stdout",
     "output_type": "stream",
     "text": [
      "[  2   4   6   8  10  12  14  16  18  20  22  24  26  28  30  32  34  36\n",
      "  38  40  42  44  46  48  50  52  54  56  58  60  62  64  66  68  70  72\n",
      "  74  76  78  80  82  84  86  88  90  92  94  96  98 100]\n"
     ]
    }
   ],
   "source": [
    "print (even_numbers)"
   ]
  },
  {
   "cell_type": "markdown",
   "id": "a041fe8a-d7f8-4f8e-9090-57e179b56373",
   "metadata": {},
   "source": [
    "### Q1 modified "
   ]
  },
  {
   "cell_type": "code",
   "execution_count": 15,
   "id": "d3f244f9-f818-4543-b039-6e5543f4d989",
   "metadata": {},
   "outputs": [],
   "source": [
    "numbers_q1_modified = numbers.copy()"
   ]
  },
  {
   "cell_type": "code",
   "execution_count": 16,
   "id": "0c01c85f-3643-48ee-b11c-b5f87a922897",
   "metadata": {},
   "outputs": [],
   "source": [
    "numbers_q1_modified[1::3] = 0"
   ]
  },
  {
   "cell_type": "code",
   "execution_count": 17,
   "id": "cf316a9c-5aed-49f0-94de-3cf979521306",
   "metadata": {},
   "outputs": [
    {
     "name": "stdout",
     "output_type": "stream",
     "text": [
      "[  1   0   3   4   0   6   7   0   9  10   0  12  13   0  15  16   0  18\n",
      "  19   0  21  22   0  24  25   0  27  28   0  30  31   0  33  34   0  36\n",
      "  37   0  39  40   0  42  43   0  45  46   0  48  49   0  51  52   0  54\n",
      "  55   0  57  58   0  60  61   0  63  64   0  66  67   0  69  70   0  72\n",
      "  73   0  75  76   0  78  79   0  81  82   0  84  85   0  87  88   0  90\n",
      "  91   0  93  94   0  96  97   0  99 100]\n"
     ]
    }
   ],
   "source": [
    "print (numbers_q1_modified)"
   ]
  },
  {
   "cell_type": "markdown",
   "id": "3330254f-ac12-42a9-9804-1f95ff98930a",
   "metadata": {},
   "source": [
    "## Exercise 4\n",
    "### Random"
   ]
  },
  {
   "cell_type": "markdown",
   "id": "bdcb1ed0-e5c6-42c5-9034-387f8ea13a87",
   "metadata": {},
   "source": [
    "### Random Generator"
   ]
  },
  {
   "cell_type": "code",
   "execution_count": 22,
   "id": "5a95fba0-fb60-4065-9f92-23bfdb4718e1",
   "metadata": {},
   "outputs": [],
   "source": [
    "import numpy as np"
   ]
  },
  {
   "cell_type": "code",
   "execution_count": 23,
   "id": "40495be5-a37a-40a6-8898-0b99dc31eff0",
   "metadata": {},
   "outputs": [],
   "source": [
    "np.random.seed(888)"
   ]
  },
  {
   "cell_type": "code",
   "execution_count": 24,
   "id": "ef75b7e3-f57a-4293-9ac0-6ce5e4f86077",
   "metadata": {},
   "outputs": [],
   "source": [
    "normal_1d = np.random.randn(100)"
   ]
  },
  {
   "cell_type": "code",
   "execution_count": 25,
   "id": "1323331a-caa4-4acb-9ff3-7fbed302009b",
   "metadata": {},
   "outputs": [
    {
     "name": "stdout",
     "output_type": "stream",
     "text": [
      "[-1.76200874e-01  1.88876361e-01  8.26747180e-01 -3.24473146e-02\n",
      " -6.52499418e-01 -1.05339382e-01  2.17776116e-01  5.87281504e-01\n",
      "  1.00237892e-01 -1.09994668e+00 -2.55305389e-01  4.05304381e-01\n",
      "  1.62663953e-01  1.04163462e+00  2.24324184e-01  6.99304449e-01\n",
      " -8.65543512e-01 -1.39346831e+00 -2.36687913e-01 -7.57041911e-01\n",
      "  1.31429195e+00 -9.77385899e-01 -3.59032576e-01  1.16141585e-01\n",
      " -3.51081138e-01 -4.39838344e-01 -4.90995473e-02 -4.31596770e-01\n",
      " -1.08875099e+00 -2.31088106e+00 -1.86236420e+00  2.34708674e-01\n",
      " -8.95585921e-01 -5.40834525e-01 -4.02399061e-01  2.31458561e-02\n",
      "  1.77688506e-01 -5.73309272e-01 -3.38392138e-01 -2.64422114e-03\n",
      "  1.44930339e+00  1.36605641e+00  2.69187461e+00  6.76065035e-01\n",
      " -1.06098418e+00  1.31845313e-01  1.71934297e-01  8.88062794e-02\n",
      "  1.03963016e+00 -1.37846942e-01 -3.69232844e-01  3.19587912e+00\n",
      "  1.11457451e+00 -2.59516296e-01  1.48370897e+00 -1.57049065e+00\n",
      "  9.78899330e-01  1.76070681e+00  3.53121953e-01 -3.08510762e-01\n",
      " -1.40481067e+00 -6.54547811e-01 -1.37791290e+00 -2.42605914e-01\n",
      " -1.17542916e+00  6.96400848e-01  2.84105779e-01 -1.01948195e+00\n",
      "  1.09675079e+00  2.41646711e-01 -3.67039678e-01 -2.19894776e+00\n",
      "  1.41872937e+00  2.20794136e-01  7.92524915e-01 -2.23775806e-01\n",
      " -6.96694068e-01 -9.17717925e-01 -1.47199487e+00  1.87770559e+00\n",
      "  1.51033108e+00  1.18732817e-01  6.50728248e-01 -7.07655562e-01\n",
      "  1.69862924e+00  1.34663117e+00  5.26657670e-01 -6.13561456e-01\n",
      " -1.79179012e-01 -1.28634991e+00  1.41675325e+00 -1.81351151e-01\n",
      " -1.02037575e-01 -6.03250569e-01  1.20489600e+00  9.62265746e-01\n",
      "  8.61170433e-01  1.96244237e+00 -1.15548773e+00  3.45259423e-01]\n"
     ]
    }
   ],
   "source": [
    "print(normal_1d)"
   ]
  },
  {
   "cell_type": "code",
   "execution_count": 26,
   "id": "e3477c92-9e36-4e58-9489-51bcab437374",
   "metadata": {},
   "outputs": [],
   "source": [
    "rand_8x8 = np.random.randint(1, 11, size=(8, 8))"
   ]
  },
  {
   "cell_type": "code",
   "execution_count": 27,
   "id": "ae7c6a79-82a2-43af-b452-db82e9e03085",
   "metadata": {},
   "outputs": [
    {
     "name": "stdout",
     "output_type": "stream",
     "text": [
      "[[ 9  8  4  6  9  1  3  2]\n",
      " [ 3  9  9  5  4  7  2  8]\n",
      " [ 5  6  9  1  1  6  8  7]\n",
      " [ 7  1  4  1 10  4  3  5]\n",
      " [ 5 10  1 10  7 10  6  1]\n",
      " [ 6  8  7  4  6 10  3  5]\n",
      " [ 4 10  7  9  9 10  9  9]\n",
      " [ 5  3  2 10  8  5  5  3]]\n"
     ]
    }
   ],
   "source": [
    "print(rand_8x8)"
   ]
  },
  {
   "cell_type": "code",
   "execution_count": 28,
   "id": "e649cb32-2469-4273-b01e-1c1d47b36f0f",
   "metadata": {},
   "outputs": [],
   "source": [
    "rand_4_2_5 = np.random.randint(1, 18, size=(4, 2, 5))"
   ]
  },
  {
   "cell_type": "code",
   "execution_count": 29,
   "id": "b44bcd29-36ca-485c-96db-352b459be00b",
   "metadata": {},
   "outputs": [
    {
     "name": "stdout",
     "output_type": "stream",
     "text": [
      "[[[ 5  2 13 16 15]\n",
      "  [ 5  5  2 11  3]]\n",
      "\n",
      " [[ 8 13  6  4 17]\n",
      "  [ 2  8  1 13 10]]\n",
      "\n",
      " [[12 17 17 12  1]\n",
      "  [10  8 17  5 11]]\n",
      "\n",
      " [[ 9 14  2 15 13]\n",
      "  [12 14  6 14  2]]]\n"
     ]
    }
   ],
   "source": [
    "print(rand_4_2_5)"
   ]
  },
  {
   "cell_type": "markdown",
   "id": "809f1cdf-f4e5-44aa-b2bb-db99d0f943f1",
   "metadata": {},
   "source": [
    "## Exercise 5: \n",
    "### Split, concatenate, reshape arrays"
   ]
  },
  {
   "cell_type": "code",
   "execution_count": 42,
   "id": "24246c4d-3e6a-484e-9443-73f1a543a563",
   "metadata": {},
   "outputs": [],
   "source": [
    "import numpy as np"
   ]
  },
  {
   "cell_type": "code",
   "execution_count": 43,
   "id": "1d07a350-04b6-476c-aa07-0c5e7ddd1b90",
   "metadata": {},
   "outputs": [],
   "source": [
    "array1 = np.arange (1, 51, dtype=int)"
   ]
  },
  {
   "cell_type": "code",
   "execution_count": 44,
   "id": "430b0dcb-1288-4ba1-9692-8d92de92657a",
   "metadata": {},
   "outputs": [
    {
     "name": "stdout",
     "output_type": "stream",
     "text": [
      "[ 1  2  3  4  5  6  7  8  9 10 11 12 13 14 15 16 17 18 19 20 21 22 23 24\n",
      " 25 26 27 28 29 30 31 32 33 34 35 36 37 38 39 40 41 42 43 44 45 46 47 48\n",
      " 49 50]\n"
     ]
    }
   ],
   "source": [
    "print (array1)"
   ]
  },
  {
   "cell_type": "code",
   "execution_count": 45,
   "id": "1f73f153-ff9d-45e1-a9b5-e36557c2dda2",
   "metadata": {},
   "outputs": [],
   "source": [
    "array2 = np.arange (51, 101, dtype=int)\n"
   ]
  },
  {
   "cell_type": "code",
   "execution_count": 47,
   "id": "bc1edf9d-991c-4bcd-837f-0a2d1e247b67",
   "metadata": {},
   "outputs": [
    {
     "name": "stdout",
     "output_type": "stream",
     "text": [
      "[ 51  52  53  54  55  56  57  58  59  60  61  62  63  64  65  66  67  68\n",
      "  69  70  71  72  73  74  75  76  77  78  79  80  81  82  83  84  85  86\n",
      "  87  88  89  90  91  92  93  94  95  96  97  98  99 100]\n"
     ]
    }
   ],
   "source": [
    "print (array2)"
   ]
  },
  {
   "cell_type": "code",
   "execution_count": 48,
   "id": "84dda24d-a49c-421a-8e5d-fb18b1f09473",
   "metadata": {},
   "outputs": [],
   "source": [
    "full_array = np.concatenate ((array1, array2))"
   ]
  },
  {
   "cell_type": "code",
   "execution_count": 49,
   "id": "3be2c3b0-5420-40b3-8b63-b625dbe3ee32",
   "metadata": {},
   "outputs": [
    {
     "name": "stdout",
     "output_type": "stream",
     "text": [
      "[  1   2   3   4   5   6   7   8   9  10  11  12  13  14  15  16  17  18\n",
      "  19  20  21  22  23  24  25  26  27  28  29  30  31  32  33  34  35  36\n",
      "  37  38  39  40  41  42  43  44  45  46  47  48  49  50  51  52  53  54\n",
      "  55  56  57  58  59  60  61  62  63  64  65  66  67  68  69  70  71  72\n",
      "  73  74  75  76  77  78  79  80  81  82  83  84  85  86  87  88  89  90\n",
      "  91  92  93  94  95  96  97  98  99 100]\n"
     ]
    }
   ],
   "source": [
    "print (full_array)"
   ]
  },
  {
   "cell_type": "code",
   "execution_count": 50,
   "id": "c32939cb-d1c8-4899-84fa-941f8b07612c",
   "metadata": {},
   "outputs": [],
   "source": [
    "reshaped = full_array.reshape(10, 10)"
   ]
  },
  {
   "cell_type": "code",
   "execution_count": 51,
   "id": "bfcb7a0d-1b05-413c-a6dc-cbb78cd53890",
   "metadata": {},
   "outputs": [
    {
     "name": "stdout",
     "output_type": "stream",
     "text": [
      "[[  1   2   3   4   5   6   7   8   9  10]\n",
      " [ 11  12  13  14  15  16  17  18  19  20]\n",
      " [ 21  22  23  24  25  26  27  28  29  30]\n",
      " [ 31  32  33  34  35  36  37  38  39  40]\n",
      " [ 41  42  43  44  45  46  47  48  49  50]\n",
      " [ 51  52  53  54  55  56  57  58  59  60]\n",
      " [ 61  62  63  64  65  66  67  68  69  70]\n",
      " [ 71  72  73  74  75  76  77  78  79  80]\n",
      " [ 81  82  83  84  85  86  87  88  89  90]\n",
      " [ 91  92  93  94  95  96  97  98  99 100]]\n"
     ]
    }
   ],
   "source": [
    "print (reshaped)"
   ]
  },
  {
   "cell_type": "markdown",
   "id": "9adfd402-217a-423b-b38b-c2694a8a2639",
   "metadata": {},
   "source": [
    "## Exercise 6: \n",
    "### Broadcasting and Slicing"
   ]
  },
  {
   "cell_type": "code",
   "execution_count": 59,
   "id": "3939ba13-c2c2-4bef-be8a-1510620e189c",
   "metadata": {},
   "outputs": [],
   "source": [
    "import numpy as np"
   ]
  },
  {
   "cell_type": "code",
   "execution_count": 60,
   "id": "b34f0dc7-2cc4-4e71-b6a6-5ca927ab62fc",
   "metadata": {},
   "outputs": [],
   "source": [
    "arr = np.ones((9, 9), dtype=np.int8)"
   ]
  },
  {
   "cell_type": "code",
   "execution_count": 61,
   "id": "d429367b-ab16-445f-a6f4-471461d93054",
   "metadata": {},
   "outputs": [
    {
     "name": "stdout",
     "output_type": "stream",
     "text": [
      "[[1 1 1 1 1 1 1 1 1]\n",
      " [1 1 1 1 1 1 1 1 1]\n",
      " [1 1 1 1 1 1 1 1 1]\n",
      " [1 1 1 1 1 1 1 1 1]\n",
      " [1 1 1 1 1 1 1 1 1]\n",
      " [1 1 1 1 1 1 1 1 1]\n",
      " [1 1 1 1 1 1 1 1 1]\n",
      " [1 1 1 1 1 1 1 1 1]\n",
      " [1 1 1 1 1 1 1 1 1]]\n"
     ]
    }
   ],
   "source": [
    "print(arr)"
   ]
  },
  {
   "cell_type": "code",
   "execution_count": 62,
   "id": "371917b4-7f19-4eb8-aef5-5daea4242a9d",
   "metadata": {},
   "outputs": [],
   "source": [
    "arr[1:-1, 1:-1] = 0\n",
    "arr[2:-2, 2:-2] = 1\n",
    "arr[3:-3, 3:-3] = 0\n",
    "arr[4, 4] = 1"
   ]
  },
  {
   "cell_type": "code",
   "execution_count": 63,
   "id": "aba1aef0-9b7b-4321-b6be-6a1af29c61d6",
   "metadata": {},
   "outputs": [
    {
     "name": "stdout",
     "output_type": "stream",
     "text": [
      "[[1 1 1 1 1 1 1 1 1]\n",
      " [1 0 0 0 0 0 0 0 1]\n",
      " [1 0 1 1 1 1 1 0 1]\n",
      " [1 0 1 0 0 0 1 0 1]\n",
      " [1 0 1 0 1 0 1 0 1]\n",
      " [1 0 1 0 0 0 1 0 1]\n",
      " [1 0 1 1 1 1 1 0 1]\n",
      " [1 0 0 0 0 0 0 0 1]\n",
      " [1 1 1 1 1 1 1 1 1]]\n"
     ]
    }
   ],
   "source": [
    "print(arr)"
   ]
  },
  {
   "cell_type": "code",
   "execution_count": 64,
   "id": "077d520c-7a5a-4dbb-8273-1800dd0e1093",
   "metadata": {},
   "outputs": [],
   "source": [
    "array_1 = np.array([1, 2, 3, 4, 5], dtype=np.int8)\n",
    "array_2 = np.array([1, 2, 3], dtype=np.int8)\n",
    "result = array_1.reshape(-1, 1) * array_2"
   ]
  },
  {
   "cell_type": "code",
   "execution_count": 65,
   "id": "8777c509-77d5-4da8-b2e3-606b58647193",
   "metadata": {},
   "outputs": [
    {
     "name": "stdout",
     "output_type": "stream",
     "text": [
      "[[ 1  2  3]\n",
      " [ 2  4  6]\n",
      " [ 3  6  9]\n",
      " [ 4  8 12]\n",
      " [ 5 10 15]]\n"
     ]
    }
   ],
   "source": [
    "print(result)"
   ]
  },
  {
   "cell_type": "markdown",
   "id": "eb187760-e1a3-45a9-8149-9edcbb0fae24",
   "metadata": {},
   "source": [
    "### Exercise 7: \n",
    "## NaN\n"
   ]
  },
  {
   "cell_type": "code",
   "execution_count": 66,
   "id": "0d11819f-27b9-447c-bf1d-9a53d9d21cd0",
   "metadata": {},
   "outputs": [],
   "source": [
    "import numpy as np"
   ]
  },
  {
   "cell_type": "code",
   "execution_count": 67,
   "id": "655dd58a-0b69-4594-83c1-8ed9a2d71171",
   "metadata": {},
   "outputs": [],
   "source": [
    "generator = np.random.default_rng(123)\n",
    "grades = np.round(generator.uniform(low=0.0, high=10.0, size=(10, 2)))"
   ]
  },
  {
   "cell_type": "code",
   "execution_count": 68,
   "id": "d7f24d0d-4ae7-495a-aef2-014ec96e96b3",
   "metadata": {},
   "outputs": [],
   "source": [
    "grades[[1, 2, 5, 7], 0] = np.nan"
   ]
  },
  {
   "cell_type": "code",
   "execution_count": 71,
   "id": "b8ce5a22-b423-4f7e-a85a-e3c96189082c",
   "metadata": {},
   "outputs": [
    {
     "name": "stdout",
     "output_type": "stream",
     "text": [
      "Grades array (columns: Exam 1, Exam 2):\n"
     ]
    }
   ],
   "source": [
    "print(\"Grades array (columns: Exam 1, Exam 2):\")"
   ]
  },
  {
   "cell_type": "code",
   "execution_count": 72,
   "id": "ab23450e-b674-4cd8-9a12-ab4ce3c0125f",
   "metadata": {},
   "outputs": [
    {
     "name": "stdout",
     "output_type": "stream",
     "text": [
      "[[ 7.  1.]\n",
      " [nan  2.]\n",
      " [nan  8.]\n",
      " [ 9.  3.]\n",
      " [ 8.  9.]\n",
      " [nan  2.]\n",
      " [ 8.  2.]\n",
      " [nan  6.]\n",
      " [ 9.  2.]\n",
      " [ 8.  5.]]\n"
     ]
    }
   ],
   "source": [
    "print(grades)"
   ]
  },
  {
   "cell_type": "code",
   "execution_count": 73,
   "id": "b8c87358-c6cf-4271-b88c-81f724357e39",
   "metadata": {},
   "outputs": [],
   "source": [
    "third_col = np.where(~np.isnan(grades[:, 0]), grades[:, 0], grades[:, 1])"
   ]
  },
  {
   "cell_type": "code",
   "execution_count": 74,
   "id": "991ccafc-f7e6-4754-93ec-ef870b02872f",
   "metadata": {},
   "outputs": [
    {
     "name": "stdout",
     "output_type": "stream",
     "text": [
      "[7. 2. 8. 9. 8. 2. 8. 6. 9. 8.]\n"
     ]
    }
   ],
   "source": [
    "print ( third_col)"
   ]
  },
  {
   "cell_type": "code",
   "execution_count": 75,
   "id": "0c4e4682-3426-49d9-ba47-250a031cebd1",
   "metadata": {},
   "outputs": [],
   "source": [
    "grades_with_third = np.column_stack((grades, third_col))"
   ]
  },
  {
   "cell_type": "code",
   "execution_count": 76,
   "id": "d98d8855-e45d-49ea-a86d-e4926895c8fe",
   "metadata": {},
   "outputs": [
    {
     "name": "stdout",
     "output_type": "stream",
     "text": [
      "[[ 7.  1.  7.]\n",
      " [nan  2.  2.]\n",
      " [nan  8.  8.]\n",
      " [ 9.  3.  9.]\n",
      " [ 8.  9.  8.]\n",
      " [nan  2.  2.]\n",
      " [ 8.  2.  8.]\n",
      " [nan  6.  6.]\n",
      " [ 9.  2.  9.]\n",
      " [ 8.  5.  8.]]\n"
     ]
    }
   ],
   "source": [
    "print(grades_with_third)"
   ]
  },
  {
   "cell_type": "markdown",
   "id": "3639cf00-bb87-41fb-a50f-d1c97ae9bace",
   "metadata": {},
   "source": [
    "## Exercise 8"
   ]
  },
  {
   "cell_type": "markdown",
   "id": "a498aaf8-6525-47db-b891-7f9f9d0b1bfc",
   "metadata": {},
   "source": [
    "### Wine"
   ]
  },
  {
   "cell_type": "code",
   "execution_count": 86,
   "id": "893c3380-867c-493d-b720-ab39ce754aa2",
   "metadata": {},
   "outputs": [],
   "source": [
    "import numpy as np"
   ]
  },
  {
   "cell_type": "code",
   "execution_count": 88,
   "id": "b75dbff0-7ca2-46d6-a514-5b02c47fe939",
   "metadata": {},
   "outputs": [],
   "source": [
    "data = np.genfromtxt('winequality-red.csv', delimiter=';', skip_header=1, dtype=np.float32)"
   ]
  },
  {
   "cell_type": "code",
   "execution_count": 89,
   "id": "9706ee6a-013f-4eac-8d63-59c2ad984a1a",
   "metadata": {},
   "outputs": [],
   "source": [
    "optimized_size = data.nbytes"
   ]
  },
  {
   "cell_type": "code",
   "execution_count": 90,
   "id": "5b18f848-154b-4342-820c-b8f13b573c5c",
   "metadata": {},
   "outputs": [
    {
     "name": "stdout",
     "output_type": "stream",
     "text": [
      "Data optimized successfully.\n"
     ]
    }
   ],
   "source": [
    "if optimized_size <= 76800:\n",
    "    print(\"Data optimized successfully.\")\n",
    "else:\n",
    "    print(\"Optimization criteria not met.\")"
   ]
  },
  {
   "cell_type": "code",
   "execution_count": 91,
   "id": "5297195c-83cd-41a0-bec9-16b629cdaf64",
   "metadata": {},
   "outputs": [
    {
     "name": "stdout",
     "output_type": "stream",
     "text": [
      "Selected rows:\n",
      " [[7.800e+00 8.800e-01 0.000e+00 2.600e+00 9.800e-02 2.500e+01 6.700e+01\n",
      "  9.968e-01 3.200e+00 6.800e-01 9.800e+00 5.000e+00]\n",
      " [7.900e+00 6.000e-01 6.000e-02 1.600e+00 6.900e-02 1.500e+01 5.900e+01\n",
      "  9.964e-01 3.300e+00 4.600e-01 9.400e+00 5.000e+00]\n",
      " [7.500e+00 5.000e-01 3.600e-01 6.100e+00 7.100e-02 1.700e+01 1.020e+02\n",
      "  9.978e-01 3.350e+00 8.000e-01 1.050e+01 5.000e+00]]\n"
     ]
    }
   ],
   "source": [
    "rows = data[[1, 6, 11]]\n",
    "rows = rows[~np.isnan(rows).any(axis=1)]\n",
    "print(\"Selected rows:\\n\", rows)"
   ]
  },
  {
   "cell_type": "code",
   "execution_count": 92,
   "id": "01ad875d-68df-4bc4-aa43-40605c5bc321",
   "metadata": {},
   "outputs": [],
   "source": [
    "np.set_printoptions(suppress=True)"
   ]
  },
  {
   "cell_type": "code",
   "execution_count": 93,
   "id": "ff80b76a-e5d0-4cf7-8ba1-4a25392e086c",
   "metadata": {},
   "outputs": [
    {
     "name": "stdout",
     "output_type": "stream",
     "text": [
      "[[  7.8      0.88     0.       2.6      0.098   25.      67.       0.9968\n",
      "    3.2      0.68     9.8      5.    ]\n",
      " [  7.9      0.6      0.06     1.6      0.069   15.      59.       0.9964\n",
      "    3.3      0.46     9.4      5.    ]\n",
      " [  7.5      0.5      0.36     6.1      0.071   17.     102.       0.9978\n",
      "    3.35     0.8     10.5      5.    ]]\n"
     ]
    }
   ],
   "source": [
    "print(rows)"
   ]
  },
  {
   "cell_type": "code",
   "execution_count": 94,
   "id": "694784e2-d56e-4b8c-a368-e655eaac0f61",
   "metadata": {},
   "outputs": [],
   "source": [
    "has_high_alcohol = np.any(data[:, 10] > 20)"
   ]
  },
  {
   "cell_type": "code",
   "execution_count": 95,
   "id": "1aa1c2d0-4691-4652-b9a7-e345ab8c21f1",
   "metadata": {},
   "outputs": [
    {
     "name": "stdout",
     "output_type": "stream",
     "text": [
      "Any wine with alcohol > 20%: False\n"
     ]
    }
   ],
   "source": [
    "print(\"Any wine with alcohol > 20%:\", has_high_alcohol) "
   ]
  },
  {
   "cell_type": "code",
   "execution_count": 96,
   "id": "1c3f2dc7-75ac-4c5e-a4d2-d7e837c49457",
   "metadata": {},
   "outputs": [],
   "source": [
    "mean_alcohol = np.nanmean(data[:, 10])"
   ]
  },
  {
   "cell_type": "code",
   "execution_count": 97,
   "id": "15d12781-eab3-4776-a76c-c84b7e573db4",
   "metadata": {},
   "outputs": [
    {
     "name": "stdout",
     "output_type": "stream",
     "text": [
      "Average alcohol: 10.422984\n"
     ]
    }
   ],
   "source": [
    "print(\"Average alcohol:\", round(mean_alcohol, 6))"
   ]
  },
  {
   "cell_type": "code",
   "execution_count": 98,
   "id": "a6951f6c-b21e-41e4-b9d3-d63f1990b97f",
   "metadata": {},
   "outputs": [],
   "source": [
    "ph = data[:, 8]"
   ]
  },
  {
   "cell_type": "code",
   "execution_count": 99,
   "id": "926cf206-defe-41e9-9e25-aa1a686c1732",
   "metadata": {},
   "outputs": [
    {
     "name": "stdout",
     "output_type": "stream",
     "text": [
      "25 percentile: 3.21\n",
      "50 percentile: 3.31\n",
      "75 percentile: 3.4\n",
      "mean: 3.31\n",
      "min: 2.74\n",
      "max: 4.01\n"
     ]
    }
   ],
   "source": [
    "print(\"25 percentile:\", round(np.nanpercentile(ph, 25), 2))\n",
    "print(\"50 percentile:\", round(np.nanpercentile(ph, 50), 2))\n",
    "print(\"75 percentile:\", round(np.nanpercentile(ph, 75), 2))\n",
    "print(\"mean:\", round(np.nanmean(ph), 2))\n",
    "print(\"min:\", round(np.nanmin(ph), 2))\n",
    "print(\"max:\", round(np.nanmax(ph), 2))  "
   ]
  },
  {
   "cell_type": "code",
   "execution_count": 100,
   "id": "8d0cb3f1-878d-4837-9cbb-44b638285859",
   "metadata": {},
   "outputs": [],
   "source": [
    "sulphates = data[:, 9]\n",
    "quality = data[:, 11]\n",
    "thresh = np.nanpercentile(sulphates, 20)\n",
    "mask = sulphates < thresh\n",
    "mean_quality_least_sulphate = np.nanmean(quality[mask])"
   ]
  },
  {
   "cell_type": "code",
   "execution_count": 101,
   "id": "11e63369-f5e3-4f2e-87a5-2b2fad7a7a0b",
   "metadata": {},
   "outputs": [
    {
     "name": "stdout",
     "output_type": "stream",
     "text": [
      "Mean quality for 20% least sulphate: 5.2\n"
     ]
    }
   ],
   "source": [
    "print(\"Mean quality for 20% least sulphate:\", round(mean_quality_least_sulphate, 1))"
   ]
  },
  {
   "cell_type": "code",
   "execution_count": 102,
   "id": "7fa9f211-dba6-4f85-b511-d0f4de3a7e54",
   "metadata": {},
   "outputs": [],
   "source": [
    "best_quality = np.nanmax(quality)\n",
    "worst_quality = np.nanmin(quality)\n",
    "mean_best = np.nanmean(data[quality == best_quality], axis=0)\n",
    "mean_worst = np.nanmean(data[quality == worst_quality], axis=0)"
   ]
  },
  {
   "cell_type": "code",
   "execution_count": 103,
   "id": "a5d0766b-29fe-4da6-bfb6-17f5555d088a",
   "metadata": {},
   "outputs": [
    {
     "name": "stdout",
     "output_type": "stream",
     "text": [
      "Mean values for best quality wine:\n",
      " [ 8.566666  0.423333  0.391111  2.577778  0.068444 13.277778 33.444443\n",
      "  0.995212  3.267222  0.767778 12.094444  8.      ]\n"
     ]
    }
   ],
   "source": [
    "print(\"Mean values for best quality wine:\\n\", np.round(mean_best, 6))"
   ]
  },
  {
   "cell_type": "code",
   "execution_count": 104,
   "id": "dcbfbc8c-522b-4d6a-9d86-e084293c8d77",
   "metadata": {},
   "outputs": [
    {
     "name": "stdout",
     "output_type": "stream",
     "text": [
      "Mean values for worst quality wine:\n",
      " [ 8.359998  0.8845    0.171     2.635     0.1225   11.       24.9\n",
      "  0.997464  3.398     0.57      9.955     3.      ]\n"
     ]
    }
   ],
   "source": [
    "print(\"Mean values for worst quality wine:\\n\", np.round(mean_worst, 6))"
   ]
  },
  {
   "cell_type": "markdown",
   "id": "e0e3c58f-697e-4287-ae10-7e3f650bd5e5",
   "metadata": {},
   "source": [
    "## Exercise 9: \n",
    "### Football tournament"
   ]
  },
  {
   "cell_type": "code",
   "execution_count": 111,
   "id": "b41a8a03-e3cc-4ba3-a887-15756dab7441",
   "metadata": {},
   "outputs": [],
   "source": [
    "import numpy as np\n",
    "import itertools\n",
    "from functools import reduce"
   ]
  },
  {
   "cell_type": "code",
   "execution_count": 108,
   "id": "3c23f461-4d5c-42b9-b538-b10e47fa7948",
   "metadata": {},
   "outputs": [],
   "source": [
    "model = np.loadtxt('model_forecasts.txt', delimiter=',')"
   ]
  },
  {
   "cell_type": "code",
   "execution_count": 109,
   "id": "b8dd6266-3b7c-413a-b64f-47e9ec3486ba",
   "metadata": {},
   "outputs": [],
   "source": [
    "model = np.nan_to_num(model, nan=0.0)"
   ]
  },
  {
   "cell_type": "code",
   "execution_count": 110,
   "id": "001d371e-c4f3-40a9-b73d-04cda1853616",
   "metadata": {},
   "outputs": [],
   "source": [
    "teams = np.arange(10)\n",
    "best_score = float('inf')\n",
    "best_pairing = None"
   ]
  },
  {
   "cell_type": "code",
   "execution_count": 112,
   "id": "58bce1d5-d2f8-43d1-9809-bdfdb9e2fa59",
   "metadata": {},
   "outputs": [
    {
     "name": "stdout",
     "output_type": "stream",
     "text": [
      "[0 1 2 3 4 5 6 7 8 9]\n"
     ]
    }
   ],
   "source": [
    "print (teams)"
   ]
  },
  {
   "cell_type": "code",
   "execution_count": 113,
   "id": "d12001b4-9d45-4548-ac98-e2258b3ac46a",
   "metadata": {},
   "outputs": [],
   "source": [
    "def calc_score(perm):\n",
    "    pairs = [(perm[i], perm[i+1]) for i in range(0, 10, 2)]\n",
    "    return sum(model[t1, t2]**2 for t1, t2 in pairs), perm"
   ]
  },
  {
   "cell_type": "code",
   "execution_count": 117,
   "id": "e8ac4e88-873c-4971-85f2-37a7118c79de",
   "metadata": {},
   "outputs": [],
   "source": [
    "perm_scores = map(calc_score, itertools.permutations(teams))"
   ]
  },
  {
   "cell_type": "code",
   "execution_count": 119,
   "id": "8d1aeee9-5bc5-46b8-9ca2-72ac29ff685a",
   "metadata": {},
   "outputs": [],
   "source": [
    "best_pairs = [(best_perm[i], best_perm[i+1]) for i in range(0, 10, 2)]\n",
    "output = np.array([[pair[0] for pair in best_pairs],\n",
    "                   [pair[1] for pair in best_pairs]])"
   ]
  },
  {
   "cell_type": "code",
   "execution_count": 120,
   "id": "18ca9dc9-d31c-4d5f-a726-30c37f4700d4",
   "metadata": {},
   "outputs": [
    {
     "name": "stdout",
     "output_type": "stream",
     "text": [
      "Optimal tournament pairing:\n",
      "[[0 1 2 3 5]\n",
      " [8 7 9 4 6]]\n",
      "Minimum sum of squared differences: 2.9242\n"
     ]
    }
   ],
   "source": [
    "print(\"Optimal tournament pairing:\")\n",
    "print(output)\n",
    "print(f\"Minimum sum of squared differences: {best_score}\")"
   ]
  },
  {
   "cell_type": "code",
   "execution_count": null,
   "id": "a9316bf6-9da6-487d-800a-be96c6b5ce91",
   "metadata": {},
   "outputs": [],
   "source": []
  }
 ],
 "metadata": {
  "kernelspec": {
   "display_name": "Python 3 (ipykernel)",
   "language": "python",
   "name": "python3"
  },
  "language_info": {
   "codemirror_mode": {
    "name": "ipython",
    "version": 3
   },
   "file_extension": ".py",
   "mimetype": "text/x-python",
   "name": "python",
   "nbconvert_exporter": "python",
   "pygments_lexer": "ipython3",
   "version": "3.8.20"
  }
 },
 "nbformat": 4,
 "nbformat_minor": 5
}
