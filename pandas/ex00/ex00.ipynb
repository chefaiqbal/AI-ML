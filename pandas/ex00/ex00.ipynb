{
 "cells": [
  {
   "cell_type": "markdown",
   "id": "cbf7bc21",
   "metadata": {},
   "source": [
    "### Exercise 1: Your first DataFrame"
   ]
  },
  {
   "cell_type": "code",
   "execution_count": 13,
   "id": "650bc024",
   "metadata": {},
   "outputs": [],
   "source": [
    "import pandas as pd\n",
    "import numpy as np"
   ]
  },
  {
   "cell_type": "code",
   "execution_count": 14,
   "id": "f992e02f",
   "metadata": {},
   "outputs": [
    {
     "name": "stdout",
     "output_type": "stream",
     "text": [
      "Method 1: From NumPy array\n",
      "------------------------------\n"
     ]
    }
   ],
   "source": [
    "print(\"Method 1: From NumPy array\")\n",
    "print(\"-\" * 30)"
   ]
  },
  {
   "cell_type": "code",
   "execution_count": 15,
   "id": "8de3e994",
   "metadata": {},
   "outputs": [],
   "source": [
    "data_array = np.array([\n",
    "    ['Blue', [1, 2], 1.1],\n",
    "    ['Red', [3, 4], 2.2],\n",
    "    ['Pink', [5, 6], 3.3],\n",
    "    ['Grey', [7, 8], 4.4],\n",
    "    ['Black', [9, 10], 5.5]\n",
    "], dtype=object)"
   ]
  },
  {
   "cell_type": "code",
   "execution_count": 16,
   "id": "39164e05",
   "metadata": {},
   "outputs": [],
   "source": [
    "df_from_array = pd.DataFrame(\n",
    "    data=data_array,\n",
    "    index=[1, 3, 5, 7, 9],\n",
    "    columns=['color', 'list', 'number']\n",
    ")"
   ]
  },
  {
   "cell_type": "code",
   "execution_count": 17,
   "id": "24f1c3f9",
   "metadata": {},
   "outputs": [],
   "source": [
    "df_from_array['number'] = pd.to_numeric(df_from_array['number'])"
   ]
  },
  {
   "cell_type": "code",
   "execution_count": 18,
   "id": "906f4534",
   "metadata": {},
   "outputs": [
    {
     "name": "stdout",
     "output_type": "stream",
     "text": [
      "   color     list  number\n",
      "1   Blue   [1, 2]     1.1\n",
      "3    Red   [3, 4]     2.2\n",
      "5   Pink   [5, 6]     3.3\n",
      "7   Grey   [7, 8]     4.4\n",
      "9  Black  [9, 10]     5.5\n"
     ]
    }
   ],
   "source": [
    "print(df_from_array)"
   ]
  },
  {
   "cell_type": "code",
   "execution_count": 19,
   "id": "4b691e20",
   "metadata": {},
   "outputs": [
    {
     "name": "stdout",
     "output_type": "stream",
     "text": [
      "\n",
      "Method 2: From Pandas Series\n",
      "------------------------------\n"
     ]
    }
   ],
   "source": [
    "print(\"\\nMethod 2: From Pandas Series\")\n",
    "print(\"-\" * 30)"
   ]
  },
  {
   "cell_type": "code",
   "execution_count": 20,
   "id": "18a43bb3",
   "metadata": {},
   "outputs": [],
   "source": [
    "color_series = pd.Series(['Blue', 'Red', 'Pink', 'Grey', 'Black'], \n",
    "                        index=[1, 3, 5, 7, 9])\n",
    "list_series = pd.Series([[1, 2], [3, 4], [5, 6], [7, 8], [9, 10]], \n",
    "                       index=[1, 3, 5, 7, 9])\n",
    "number_series = pd.Series([1.1, 2.2, 3.3, 4.4, 5.5], \n",
    "                         index=[1, 3, 5, 7, 9])"
   ]
  },
  {
   "cell_type": "code",
   "execution_count": 21,
   "id": "ad546e27",
   "metadata": {},
   "outputs": [],
   "source": [
    "df_from_series = pd.DataFrame({\n",
    "    'color': color_series,\n",
    "    'list': list_series,\n",
    "    'number': number_series\n",
    "})"
   ]
  },
  {
   "cell_type": "code",
   "execution_count": 22,
   "id": "56179686",
   "metadata": {},
   "outputs": [
    {
     "name": "stdout",
     "output_type": "stream",
     "text": [
      "   color     list  number\n",
      "1   Blue   [1, 2]     1.1\n",
      "3    Red   [3, 4]     2.2\n",
      "5   Pink   [5, 6]     3.3\n",
      "7   Grey   [7, 8]     4.4\n",
      "9  Black  [9, 10]     5.5\n"
     ]
    }
   ],
   "source": [
    "print(df_from_series)"
   ]
  },
  {
   "cell_type": "code",
   "execution_count": 82,
   "id": "77601d2b",
   "metadata": {},
   "outputs": [
    {
     "name": "stdout",
     "output_type": "stream",
     "text": [
      "\n",
      "First value types:\n",
      "<class 'str'>\n",
      "<class 'list'>\n",
      "<class 'numpy.float64'>\n"
     ]
    }
   ],
   "source": [
    "print(\"\\nFirst value types:\")\n",
    "for col in df_from_series.columns:\n",
    "    first_value = df_from_series[col].iloc[0]\n",
    "    print(type(first_value))"
   ]
  },
  {
   "cell_type": "code",
   "execution_count": 83,
   "id": "3a88d173",
   "metadata": {},
   "outputs": [
    {
     "name": "stdout",
     "output_type": "stream",
     "text": [
      "Column types:\n",
      "<class 'pandas.core.series.Series'>\n",
      "<class 'pandas.core.series.Series'>\n",
      "<class 'pandas.core.series.Series'>\n"
     ]
    }
   ],
   "source": [
    "print(\"Column types:\")\n",
    "for col in df_from_series.columns:\n",
    "    print(type(df_from_series[col]))"
   ]
  },
  {
   "cell_type": "markdown",
   "id": "3aa2df65",
   "metadata": {},
   "source": [
    "### Exercise 2: Electric power consumption"
   ]
  },
  {
   "cell_type": "code",
   "execution_count": null,
   "id": "960640d9",
   "metadata": {},
   "outputs": [],
   "source": [
    "import pandas as pd\n",
    "import numpy as np\n"
   ]
  },
  {
   "cell_type": "code",
   "execution_count": 26,
   "id": "b9755a83",
   "metadata": {},
   "outputs": [
    {
     "name": "stderr",
     "output_type": "stream",
     "text": [
      "/tmp/ipykernel_61368/4116954226.py:1: DtypeWarning: Columns (2,3,4,5,6,7) have mixed types. Specify dtype option on import or set low_memory=False.\n",
      "  df = pd.read_csv('household_power_consumption.txt', sep=';')\n"
     ]
    }
   ],
   "source": [
    "df = pd.read_csv('household_power_consumption.txt', sep=';')"
   ]
  },
  {
   "cell_type": "code",
   "execution_count": 27,
   "id": "0b6f9504",
   "metadata": {},
   "outputs": [
    {
     "name": "stdout",
     "output_type": "stream",
     "text": [
      "Original dataset shape: (2075259, 9)\n",
      "\n",
      "First few rows:\n",
      "         Date      Time Global_active_power Global_reactive_power  Voltage  \\\n",
      "0  16/12/2006  17:24:00               4.216                 0.418  234.840   \n",
      "1  16/12/2006  17:25:00               5.360                 0.436  233.630   \n",
      "2  16/12/2006  17:26:00               5.374                 0.498  233.290   \n",
      "3  16/12/2006  17:27:00               5.388                 0.502  233.740   \n",
      "4  16/12/2006  17:28:00               3.666                 0.528  235.680   \n",
      "\n",
      "  Global_intensity Sub_metering_1 Sub_metering_2  Sub_metering_3  \n",
      "0           18.400          0.000          1.000            17.0  \n",
      "1           23.000          0.000          1.000            16.0  \n",
      "2           23.000          0.000          2.000            17.0  \n",
      "3           23.000          0.000          1.000            17.0  \n",
      "4           15.800          0.000          1.000            17.0  \n"
     ]
    }
   ],
   "source": [
    "print(\"Original dataset shape:\", df.shape)\n",
    "print(\"\\nFirst few rows:\")\n",
    "print(df.head())"
   ]
  },
  {
   "cell_type": "code",
   "execution_count": 28,
   "id": "54eee086",
   "metadata": {},
   "outputs": [],
   "source": [
    "df.drop(['Time', 'Sub_metering_2', 'Sub_metering_3'], axis=1, inplace=True)"
   ]
  },
  {
   "cell_type": "code",
   "execution_count": 29,
   "id": "dc3013cc",
   "metadata": {},
   "outputs": [
    {
     "name": "stdout",
     "output_type": "stream",
     "text": [
      "Columns after deletion: ['Date', 'Global_active_power', 'Global_reactive_power', 'Voltage', 'Global_intensity', 'Sub_metering_1']\n"
     ]
    }
   ],
   "source": [
    "print(\"Columns after deletion:\", df.columns.tolist())"
   ]
  },
  {
   "cell_type": "code",
   "execution_count": 35,
   "id": "26f67978",
   "metadata": {},
   "outputs": [
    {
     "name": "stdout",
     "output_type": "stream",
     "text": [
      "DatetimeIndex(['2006-12-16', '2006-12-16', '2006-12-16', '2006-12-16',\n",
      "               '2006-12-16'],\n",
      "              dtype='datetime64[ns]', name='Date', freq=None)\n"
     ]
    }
   ],
   "source": [
    "print(df.head().index)"
   ]
  },
  {
   "cell_type": "code",
   "execution_count": 36,
   "id": "271497ce",
   "metadata": {},
   "outputs": [],
   "source": [
    "def update_types(df):\n",
    "    for col in df.columns:\n",
    "        df[col] = pd.to_numeric(df[col], errors='coerce')\n",
    "    return df\n"
   ]
  },
  {
   "cell_type": "code",
   "execution_count": 37,
   "id": "792c407f",
   "metadata": {},
   "outputs": [],
   "source": [
    "df = update_types(df)"
   ]
  },
  {
   "cell_type": "code",
   "execution_count": 38,
   "id": "c48a6984",
   "metadata": {},
   "outputs": [
    {
     "name": "stdout",
     "output_type": "stream",
     "text": [
      "Global_active_power      float64\n",
      "Global_reactive_power    float64\n",
      "Voltage                  float64\n",
      "Global_intensity         float64\n",
      "Sub_metering_1           float64\n",
      "dtype: object\n"
     ]
    }
   ],
   "source": [
    "print(df.dtypes)"
   ]
  },
  {
   "cell_type": "code",
   "execution_count": 41,
   "id": "1bdf8f56",
   "metadata": {},
   "outputs": [
    {
     "name": "stdout",
     "output_type": "stream",
     "text": [
      "       Global_active_power  Global_reactive_power       Voltage  \\\n",
      "count         2.049280e+06           2.049280e+06  2.049280e+06   \n",
      "mean          1.091615e+00           1.237145e-01  2.408399e+02   \n",
      "std           1.057294e+00           1.127220e-01  3.239987e+00   \n",
      "min           7.600000e-02           0.000000e+00  2.232000e+02   \n",
      "25%           3.080000e-01           4.800000e-02  2.389900e+02   \n",
      "50%           6.020000e-01           1.000000e-01  2.410100e+02   \n",
      "75%           1.528000e+00           1.940000e-01  2.428900e+02   \n",
      "max           1.112200e+01           1.390000e+00  2.541500e+02   \n",
      "\n",
      "       Global_intensity  Sub_metering_1  \n",
      "count      2.049280e+06    2.049280e+06  \n",
      "mean       4.627759e+00    1.121923e+00  \n",
      "std        4.444396e+00    6.153031e+00  \n",
      "min        2.000000e-01    0.000000e+00  \n",
      "25%        1.400000e+00    0.000000e+00  \n",
      "50%        2.600000e+00    0.000000e+00  \n",
      "75%        6.400000e+00    0.000000e+00  \n",
      "max        4.840000e+01    8.800000e+01  \n"
     ]
    }
   ],
   "source": [
    "print(df.describe())"
   ]
  },
  {
   "cell_type": "code",
   "execution_count": 43,
   "id": "b5147f69",
   "metadata": {},
   "outputs": [
    {
     "name": "stdout",
     "output_type": "stream",
     "text": [
      "Missing values before cleaning:\n",
      "Global_active_power      25979\n",
      "Global_reactive_power    25979\n",
      "Voltage                  25979\n",
      "Global_intensity         25979\n",
      "Sub_metering_1           25979\n",
      "dtype: int64\n"
     ]
    }
   ],
   "source": [
    "print(\"Missing values before cleaning:\")\n",
    "print(df.isna().sum())"
   ]
  },
  {
   "cell_type": "code",
   "execution_count": 44,
   "id": "b443f758",
   "metadata": {},
   "outputs": [],
   "source": [
    "df.dropna(inplace=True)"
   ]
  },
  {
   "cell_type": "code",
   "execution_count": 45,
   "id": "c4843457",
   "metadata": {},
   "outputs": [
    {
     "name": "stdout",
     "output_type": "stream",
     "text": [
      "Missing values after cleaning:\n",
      "Global_active_power      0\n",
      "Global_reactive_power    0\n",
      "Voltage                  0\n",
      "Global_intensity         0\n",
      "Sub_metering_1           0\n",
      "dtype: int64\n"
     ]
    }
   ],
   "source": [
    "print(\"Missing values after cleaning:\")\n",
    "print(df.isna().sum())"
   ]
  },
  {
   "cell_type": "code",
   "execution_count": 47,
   "id": "32ca0c08",
   "metadata": {},
   "outputs": [],
   "source": [
    "df.loc[:, 'Sub_metering_1'] = (df['Sub_metering_1'] + 1) * 0.06"
   ]
  },
  {
   "cell_type": "code",
   "execution_count": 48,
   "id": "e99cb6d7",
   "metadata": {},
   "outputs": [
    {
     "name": "stdout",
     "output_type": "stream",
     "text": [
      "Date\n",
      "2006-12-16    0.06\n",
      "2006-12-16    0.06\n",
      "2006-12-16    0.06\n",
      "2006-12-16    0.06\n",
      "2006-12-16    0.06\n",
      "Name: Sub_metering_1, dtype: float64\n"
     ]
    }
   ],
   "source": [
    "print(df['Sub_metering_1'].head())"
   ]
  },
  {
   "cell_type": "code",
   "execution_count": 49,
   "id": "134270c8",
   "metadata": {},
   "outputs": [
    {
     "name": "stdout",
     "output_type": "stream",
     "text": [
      "\n",
      "7. Filtering data...\n"
     ]
    }
   ],
   "source": [
    "print(\"\\n7. Filtering data...\")"
   ]
  },
  {
   "cell_type": "code",
   "execution_count": 54,
   "id": "3f8ae52e",
   "metadata": {},
   "outputs": [],
   "source": [
    "filtered_df = df[(df.index >= '2008-12-27') & (df['Voltage'] >= 242)]"
   ]
  },
  {
   "cell_type": "code",
   "execution_count": 55,
   "id": "0c1e92bb",
   "metadata": {},
   "outputs": [
    {
     "name": "stdout",
     "output_type": "stream",
     "text": [
      "Number of rows in filtered data: 449667\n"
     ]
    }
   ],
   "source": [
    "\n",
    "print(f\"Number of rows in filtered data: {len(filtered_df)}\")"
   ]
  },
  {
   "cell_type": "code",
   "execution_count": 58,
   "id": "2fee9673",
   "metadata": {},
   "outputs": [
    {
     "name": "stdout",
     "output_type": "stream",
     "text": [
      "| Date                |   Global_active_power |   Global_reactive_power |\n",
      "|:--------------------|----------------------:|------------------------:|\n",
      "| 2008-12-27 00:00:00 |                 0.996 |                   0.066 |\n",
      "| 2008-12-27 00:00:00 |                 1.076 |                   0.162 |\n",
      "| 2008-12-27 00:00:00 |                 1.064 |                   0.172 |\n",
      "| 2008-12-27 00:00:00 |                 1.07  |                   0.174 |\n",
      "| 2008-12-27 00:00:00 |                 0.804 |                   0.184 |\n"
     ]
    }
   ],
   "source": [
    "print(filtered_df[['Global_active_power', 'Global_reactive_power']].head().to_markdown())"
   ]
  },
  {
   "cell_type": "code",
   "execution_count": 59,
   "id": "7c65d258",
   "metadata": {},
   "outputs": [
    {
     "name": "stdout",
     "output_type": "stream",
     "text": [
      "\n",
      "8. 88888th row:\n"
     ]
    }
   ],
   "source": [
    "print(\"\\n8. 88888th row:\")"
   ]
  },
  {
   "cell_type": "code",
   "execution_count": 60,
   "id": "ad68d912",
   "metadata": {},
   "outputs": [
    {
     "name": "stdout",
     "output_type": "stream",
     "text": [
      "Global_active_power        0.254\n",
      "Global_reactive_power      0.000\n",
      "Voltage                  238.100\n",
      "Global_intensity           1.200\n",
      "Sub_metering_1             0.060\n",
      "Name: 2007-02-16 00:00:00, dtype: float64\n"
     ]
    }
   ],
   "source": [
    "print(df.iloc[88887])"
   ]
  },
  {
   "cell_type": "code",
   "execution_count": 61,
   "id": "a5244544",
   "metadata": {},
   "outputs": [
    {
     "name": "stdout",
     "output_type": "stream",
     "text": [
      "\n",
      "9. Date with maximum Global_active_power:\n"
     ]
    }
   ],
   "source": [
    "print(\"\\n9. Date with maximum Global_active_power:\")"
   ]
  },
  {
   "cell_type": "code",
   "execution_count": 62,
   "id": "6a8fae74",
   "metadata": {},
   "outputs": [],
   "source": [
    "max_power_date = df['Global_active_power'].idxmax()"
   ]
  },
  {
   "cell_type": "code",
   "execution_count": 64,
   "id": "16a8ad3b",
   "metadata": {},
   "outputs": [
    {
     "name": "stdout",
     "output_type": "stream",
     "text": [
      "Timestamp: 2009-02-22 00:00:00\n"
     ]
    }
   ],
   "source": [
    "print(\"Timestamp:\", max_power_date)"
   ]
  },
  {
   "cell_type": "code",
   "execution_count": 65,
   "id": "41d07fbf",
   "metadata": {},
   "outputs": [
    {
     "name": "stdout",
     "output_type": "stream",
     "text": [
      "\n",
      "10. Sorting data...\n"
     ]
    }
   ],
   "source": [
    "print(\"\\n10. Sorting data...\")"
   ]
  },
  {
   "cell_type": "code",
   "execution_count": 67,
   "id": "3a7d3401",
   "metadata": {},
   "outputs": [],
   "source": [
    "first_three_cols = df.columns[:3].tolist()\n",
    "sorted_df = df[first_three_cols].sort_values(\n",
    "    by=['Global_active_power', 'Voltage'], \n",
    "    ascending=[False, True])"
   ]
  },
  {
   "cell_type": "code",
   "execution_count": 69,
   "id": "5a18b649",
   "metadata": {},
   "outputs": [
    {
     "name": "stdout",
     "output_type": "stream",
     "text": [
      "| Date                |   Global_active_power |   Global_reactive_power |   Voltage |\n",
      "|:--------------------|----------------------:|------------------------:|----------:|\n",
      "| 2008-08-28 00:00:00 |                 0.076 |                       0 |    234.88 |\n",
      "| 2008-08-28 00:00:00 |                 0.076 |                       0 |    235.18 |\n",
      "| 2008-08-28 00:00:00 |                 0.076 |                       0 |    235.4  |\n",
      "| 2008-08-28 00:00:00 |                 0.076 |                       0 |    235.64 |\n",
      "| 2008-08-12 00:00:00 |                 0.076 |                       0 |    236.5  |\n"
     ]
    }
   ],
   "source": [
    "print(sorted_df.tail().to_markdown())"
   ]
  },
  {
   "cell_type": "code",
   "execution_count": 71,
   "id": "d6a4a9dc",
   "metadata": {},
   "outputs": [
    {
     "name": "stdout",
     "output_type": "stream",
     "text": [
      "\n",
      "11. Daily average of Global_active_power:\n"
     ]
    }
   ],
   "source": [
    "print(\"\\n11. Daily average of Global_active_power:\")"
   ]
  },
  {
   "cell_type": "code",
   "execution_count": 73,
   "id": "feb85647",
   "metadata": {},
   "outputs": [],
   "source": [
    "daily_avg = df.groupby(df.index.date)['Global_active_power'].mean()\n",
    "daily_avg.index = pd.to_datetime(daily_avg.index)\n",
    "daily_avg.index.name = 'Date'"
   ]
  },
  {
   "cell_type": "code",
   "execution_count": 74,
   "id": "df5ebcd0",
   "metadata": {},
   "outputs": [
    {
     "name": "stdout",
     "output_type": "stream",
     "text": [
      "Date\n",
      "2006-12-16    3.053475\n",
      "2006-12-17    2.354486\n",
      "2006-12-18    1.530435\n",
      "2006-12-19    1.157079\n",
      "2006-12-20    1.545658\n",
      "                ...   \n",
      "2010-11-22    1.417733\n",
      "2010-11-23    1.095511\n",
      "2010-11-24    1.247394\n",
      "2010-11-25    0.993864\n",
      "2010-11-26    1.178230\n",
      "Name: Global_active_power, Length: 1433, dtype: float64\n"
     ]
    }
   ],
   "source": [
    "print(daily_avg)"
   ]
  },
  {
   "cell_type": "markdown",
   "id": "6bd14aee",
   "metadata": {},
   "source": [
    "### Exercise 3: E-commerce purchases"
   ]
  },
  {
   "cell_type": "code",
   "execution_count": 103,
   "id": "aaa354db",
   "metadata": {},
   "outputs": [
    {
     "name": "stdout",
     "output_type": "stream",
     "text": [
      "Exercise 3: E-commerce purchases\n",
      "========================================\n"
     ]
    }
   ],
   "source": [
    "import pandas as pd\n",
    "import numpy as np\n",
    "df = pd.read_csv('Ecommerce_purchases.txt')\n",
    "pd.set_option('display.precision', 30)\n",
    "print(\"Exercise 3: E-commerce purchases\")\n",
    "print(\"=\" * 40)"
   ]
  },
  {
   "cell_type": "code",
   "execution_count": 85,
   "id": "75a21ac1",
   "metadata": {},
   "outputs": [
    {
     "name": "stdout",
     "output_type": "stream",
     "text": [
      "1. Dataset shape:\n",
      "Rows: 10000, Columns: 14\n",
      "Shape: (10000, 14)\n"
     ]
    }
   ],
   "source": [
    "print(\"1. Dataset shape:\")\n",
    "print(f\"Rows: {df.shape[0]}, Columns: {df.shape[1]}\")\n",
    "print(f\"Shape: {df.shape}\")"
   ]
  },
  {
   "cell_type": "code",
   "execution_count": 104,
   "id": "c9d447b0",
   "metadata": {},
   "outputs": [],
   "source": [
    "pd.set_option('display.precision', 30)"
   ]
  },
  {
   "cell_type": "code",
   "execution_count": 109,
   "id": "170598d1",
   "metadata": {},
   "outputs": [],
   "source": [
    "avg_price = df['Purchase Price'].mean()"
   ]
  },
  {
   "cell_type": "code",
   "execution_count": 110,
   "id": "a1b6a036",
   "metadata": {},
   "outputs": [
    {
     "name": "stdout",
     "output_type": "stream",
     "text": [
      "\n",
      "2. Average Purchase Price: 50.347302\n"
     ]
    }
   ],
   "source": [
    "print(f\"\\n2. Average Purchase Price: {avg_price}\")"
   ]
  },
  {
   "cell_type": "code",
   "execution_count": 118,
   "id": "2fe898ad",
   "metadata": {},
   "outputs": [
    {
     "name": "stdout",
     "output_type": "stream",
     "text": [
      "\n",
      "3. Price range - Min: 0.0, Max: 99.99\n"
     ]
    }
   ],
   "source": [
    "pd.set_option('display.precision', 20)\n",
    "min_price = df['Purchase Price'].min()\n",
    "max_price = df['Purchase Price'].max()\n",
    "print(f\"\\n3. Price range - Min: {min_price}, Max: {max_price}\")\n"
   ]
  },
  {
   "cell_type": "code",
   "execution_count": 119,
   "id": "09b32da7",
   "metadata": {},
   "outputs": [
    {
     "name": "stdout",
     "output_type": "stream",
     "text": [
      "\n",
      "4. People with English language: 1098\n"
     ]
    }
   ],
   "source": [
    "english_count = len(df[df['Language'] == 'en'])\n",
    "print(f\"\\n4. People with English language: {english_count}\")"
   ]
  },
  {
   "cell_type": "code",
   "execution_count": 120,
   "id": "4a57fbed",
   "metadata": {},
   "outputs": [
    {
     "name": "stdout",
     "output_type": "stream",
     "text": [
      "\n",
      "5. People with job title 'Lawyer': 30\n"
     ]
    }
   ],
   "source": [
    "lawyer_count = len(df[df['Job'] == 'Lawyer'])\n",
    "print(f\"\\n5. People with job title 'Lawyer': {lawyer_count}\")"
   ]
  },
  {
   "cell_type": "code",
   "execution_count": 121,
   "id": "40fedf33",
   "metadata": {},
   "outputs": [
    {
     "name": "stdout",
     "output_type": "stream",
     "text": [
      "\n",
      "6. AM purchases: 4932, PM purchases: 5068\n"
     ]
    }
   ],
   "source": [
    "am_pm_counts = df['AM or PM'].value_counts()\n",
    "print(f\"\\n6. AM purchases: {am_pm_counts['AM']}, PM purchases: {am_pm_counts['PM']}\")\n"
   ]
  },
  {
   "cell_type": "code",
   "execution_count": 122,
   "id": "1edb41e5",
   "metadata": {},
   "outputs": [
    {
     "name": "stdout",
     "output_type": "stream",
     "text": [
      "\n",
      "7. Top 5 job titles:\n",
      "Job\n",
      "Interior and spatial designer        31\n",
      "Lawyer                               30\n",
      "Social researcher                    28\n",
      "Research officer, political party    27\n",
      "Designer, jewellery                  27\n",
      "Name: count, dtype: int64\n"
     ]
    }
   ],
   "source": [
    "top_jobs = df['Job'].value_counts().head(5)\n",
    "print(f\"\\n7. Top 5 job titles:\")\n",
    "print(top_jobs)"
   ]
  },
  {
   "cell_type": "code",
   "execution_count": 123,
   "id": "0f28bb5b",
   "metadata": {},
   "outputs": [
    {
     "name": "stdout",
     "output_type": "stream",
     "text": [
      "\n",
      "8. Purchase price for Lot '90 WT': 75.1\n"
     ]
    }
   ],
   "source": [
    "lot_90wt_price = df[df['Lot'] == '90 WT']['Purchase Price'].iloc[0]\n",
    "print(f\"\\n8. Purchase price for Lot '90 WT': {lot_90wt_price}\")"
   ]
  },
  {
   "cell_type": "code",
   "execution_count": 124,
   "id": "b9ab7537",
   "metadata": {},
   "outputs": [
    {
     "name": "stdout",
     "output_type": "stream",
     "text": [
      "\n",
      "9. Email for credit card 4926535242672853: bondellen@williams-garza.com\n"
     ]
    }
   ],
   "source": [
    "email = df[df['Credit Card'] == 4926535242672853]['Email'].iloc[0]\n",
    "print(f\"\\n9. Email for credit card 4926535242672853: {email}\")"
   ]
  },
  {
   "cell_type": "code",
   "execution_count": 125,
   "id": "c741b56d",
   "metadata": {},
   "outputs": [
    {
     "name": "stdout",
     "output_type": "stream",
     "text": [
      "\n",
      "10. American Express users with purchase above $95: 39\n"
     ]
    }
   ],
   "source": [
    "amex_above_95 = len(df[(df['CC Provider'] == 'American Express') & (df['Purchase Price'] > 95)])\n",
    "print(f\"\\n10. American Express users with purchase above $95: {amex_above_95}\")"
   ]
  },
  {
   "cell_type": "code",
   "execution_count": 126,
   "id": "20ff90cc",
   "metadata": {},
   "outputs": [
    {
     "name": "stdout",
     "output_type": "stream",
     "text": [
      "\n",
      "11. Credit cards expiring in 2025: 1033\n"
     ]
    }
   ],
   "source": [
    "expires_2025 = len(df[df['CC Exp Date'].str.endswith('/25')])\n",
    "print(f\"\\n11. Credit cards expiring in 2025: {expires_2025}\")"
   ]
  },
  {
   "cell_type": "code",
   "execution_count": 127,
   "id": "fa675d64",
   "metadata": {},
   "outputs": [
    {
     "name": "stdout",
     "output_type": "stream",
     "text": [
      "\n",
      "12. Top 5 email providers:\n",
      "Email\n",
      "hotmail.com     1638\n",
      "yahoo.com       1616\n",
      "gmail.com       1605\n",
      "smith.com         42\n",
      "williams.com      37\n",
      "Name: count, dtype: int64\n"
     ]
    }
   ],
   "source": [
    "email_providers = df['Email'].str.split('@').str[1].value_counts().head(5)\n",
    "print(f\"\\n12. Top 5 email providers:\")\n",
    "print(email_providers)"
   ]
  },
  {
   "cell_type": "markdown",
   "id": "e3a8b559",
   "metadata": {},
   "source": [
    "### Exercise 4: Handling missing values"
   ]
  },
  {
   "cell_type": "code",
   "execution_count": 25,
   "id": "8c37eedd",
   "metadata": {},
   "outputs": [],
   "source": [
    "import pandas as pd\n",
    "import numpy as np\n",
    "df = pd.read_csv('iris.csv')"
   ]
  },
  {
   "cell_type": "code",
   "execution_count": 41,
   "id": "c24d55f9",
   "metadata": {},
   "outputs": [
    {
     "name": "stdout",
     "output_type": "stream",
     "text": [
      "Original shape: (150, 5)\n",
      "  sepal_length sepal_width petal_length petal_width       flower\n",
      "0          5.1         3.5          1.4         0.2  Iris-setosa\n",
      "1          4.9         3.0          1.4         0.2  Iris-setosa\n",
      "2          4.7         3.2          1.3         0.2  Iris-setosa\n",
      "3          4.6         3.1          1.5         0.2  Iris-setosa\n",
      "4          5.0        -3.6         -1.4         0.2  Iris-setosa\n",
      "sepal_length    object\n",
      "sepal_width     object\n",
      "petal_length    object\n",
      "petal_width     object\n",
      "flower          object\n",
      "dtype: object\n",
      "       sepal_length sepal_width petal_length petal_width       flower\n",
      "count           148         142          121         148          150\n",
      "unique           40          28           44          25            4\n",
      "top             5.0         3.0          1.5         0.2  Iris-setosa\n",
      "freq             10          24            9          28           50\n"
     ]
    }
   ],
   "source": [
    "print(f\"Original shape: {df.shape}\")\n",
    "print(df.head())\n",
    "print(df.dtypes)\n",
    "print(df.describe())"
   ]
  },
  {
   "cell_type": "code",
   "execution_count": 27,
   "id": "5f1b7ba4",
   "metadata": {},
   "outputs": [
    {
     "name": "stdout",
     "output_type": "stream",
     "text": [
      "\n",
      "After dropping 'flower' column: (150, 4)\n"
     ]
    }
   ],
   "source": [
    "df_numeric = df.drop('flower', axis=1)\n",
    "print(f\"\\nAfter dropping 'flower' column: {df_numeric.shape}\")"
   ]
  },
  {
   "cell_type": "code",
   "execution_count": 28,
   "id": "aaffe759",
   "metadata": {},
   "outputs": [
    {
     "name": "stdout",
     "output_type": "stream",
     "text": [
      "\n",
      "Missing values: 46\n"
     ]
    }
   ],
   "source": [
    "for col in df_numeric.columns:\n",
    "    df_numeric[col] = pd.to_numeric(df_numeric[col], errors='coerce')\n",
    "\n",
    "print(f\"\\nMissing values: {df_numeric.isnull().sum().sum()}\")"
   ]
  },
  {
   "cell_type": "code",
   "execution_count": 29,
   "id": "5e0ca936",
   "metadata": {},
   "outputs": [],
   "source": [
    "df_q1 = df_numeric.copy()"
   ]
  },
  {
   "cell_type": "code",
   "execution_count": 32,
   "id": "19466af2",
   "metadata": {},
   "outputs": [
    {
     "name": "stdout",
     "output_type": "stream",
     "text": [
      "Question 1 - Different strategies:\n",
      "sepal_length -> mean, sepal_width -> median, petal_length/width -> 0\n",
      "Missing values after: 0\n"
     ]
    }
   ],
   "source": [
    "df_q1['sepal_length'] = df_q1['sepal_length'].fillna(df_q1['sepal_length'].mean())\n",
    "df_q1['sepal_width'] = df_q1['sepal_width'].fillna(df_q1['sepal_width'].median())\n",
    "df_q1['petal_length'] = df_q1['petal_length'].fillna(0)\n",
    "df_q1['petal_width'] = df_q1['petal_width'].fillna(0)\n",
    "\n",
    "print(\"Question 1 - Different strategies:\")\n",
    "print(\"sepal_length -> mean, sepal_width -> median, petal_length/width -> 0\")\n",
    "print(f\"Missing values after: {df_q1.isnull().sum().sum()}\")"
   ]
  },
  {
   "cell_type": "code",
   "execution_count": 33,
   "id": "3479aad1",
   "metadata": {},
   "outputs": [
    {
     "name": "stdout",
     "output_type": "stream",
     "text": [
      "\n",
      "Question 2 - Fill all with median:\n",
      "Missing values after: 0\n"
     ]
    }
   ],
   "source": [
    "df_q2 = df_numeric.copy()\n",
    "\n",
    "for col in df_q2.columns:\n",
    "    df_q2[col] = df_q2[col].fillna(df_q2[col].median())\n",
    "\n",
    "print(\"\\nQuestion 2 - Fill all with median:\")\n",
    "print(f\"Missing values after: {df_q2.isnull().sum().sum()}\")"
   ]
  },
  {
   "cell_type": "code",
   "execution_count": 46,
   "id": "fea51545",
   "metadata": {},
   "outputs": [
    {
     "name": "stdout",
     "output_type": "stream",
     "text": [
      "\n",
      "Checking for negative values in each column:\n",
      "Negative values found in sepal_length:\n",
      "   sepal_length\n",
      "8          -4.4\n",
      "Negative values found in sepal_width:\n",
      "    sepal_width\n",
      "4          -3.6\n",
      "25         -3.0\n",
      "Negative values found in petal_length:\n",
      "     petal_length\n",
      "4            -1.4\n",
      "126          -4.8\n",
      "Negative values found in petal_width:\n",
      "     petal_width\n",
      "144         -2.5\n"
     ]
    }
   ],
   "source": [
    "print(\"\\nChecking for negative values in each column:\")\n",
    "for col in df_numeric.columns:\n",
    "    negatives = df_numeric[df_numeric[col] < 0]\n",
    "    if not negatives.empty:\n",
    "        print(f\"Negative values found in {col}:\")\n",
    "        print(negatives[[col]])"
   ]
  },
  {
   "cell_type": "code",
   "execution_count": 47,
   "id": "26ebf4f8",
   "metadata": {},
   "outputs": [
    {
     "name": "stdout",
     "output_type": "stream",
     "text": [
      "\n",
      "Checking for huge values (>100) in each column:\n",
      "Huge values found in sepal_length:\n",
      "     sepal_length\n",
      "139        6900.0\n",
      "142         580.0\n",
      "Huge values found in sepal_width:\n",
      "    sepal_width\n",
      "46       3809.0\n",
      "51       3200.0\n",
      "Huge values found in petal_length:\n",
      "   petal_length\n",
      "8        1400.0\n",
      "Huge values found in petal_width:\n",
      "    petal_width\n",
      "56       1600.0\n"
     ]
    }
   ],
   "source": [
    "print(\"\\nChecking for huge values (>100) in each column:\")\n",
    "for col in df_numeric.columns:\n",
    "    huge = df_numeric[df_numeric[col] > 100]\n",
    "    if not huge.empty:\n",
    "        print(f\"Huge values found in {col}:\")\n",
    "        print(huge[[col]])"
   ]
  },
  {
   "cell_type": "code",
   "execution_count": 48,
   "id": "7aceefad",
   "metadata": {},
   "outputs": [
    {
     "name": "stdout",
     "output_type": "stream",
     "text": [
      "       sepal_length  sepal_width  petal_length  petal_width\n",
      "count    150.000000   150.000000    150.000000   150.000000\n",
      "mean      56.907534    49.648000     12.423333    11.786000\n",
      "std      564.489133   404.506037    114.078057   130.550042\n",
      "min       -4.400000    -3.600000     -4.800000    -2.500000\n",
      "25%        5.100000     2.800000      1.300000     0.225000\n",
      "50%        5.800000     3.000000      4.000000     1.300000\n",
      "75%        6.500000     3.300000      4.975000     1.800000\n",
      "max     6900.000000  3809.000000   1400.000000  1600.000000\n"
     ]
    }
   ],
   "source": [
    "print(df_q1.describe())"
   ]
  },
  {
   "cell_type": "code",
   "execution_count": 49,
   "id": "0bb004ab",
   "metadata": {},
   "outputs": [
    {
     "name": "stdout",
     "output_type": "stream",
     "text": [
      "       sepal_length  sepal_width  petal_length  petal_width\n",
      "count    150.000000   150.000000    150.000000   150.000000\n",
      "mean      55.543333    49.648000     13.323333    11.812000\n",
      "std      564.549701   404.506037    113.993652   130.547807\n",
      "min       -4.400000    -3.600000     -4.800000    -2.500000\n",
      "25%        5.100000     2.800000      3.825000     0.300000\n",
      "50%        5.750000     3.000000      4.500000     1.300000\n",
      "75%        6.400000     3.300000      4.975000     1.800000\n",
      "max     6900.000000  3809.000000   1400.000000  1600.000000\n"
     ]
    }
   ],
   "source": [
    "print(df_q2.describe())"
   ]
  },
  {
   "cell_type": "code",
   "execution_count": 34,
   "id": "c64c60eb",
   "metadata": {},
   "outputs": [],
   "source": [
    "df_original = pd.read_csv('iris.csv')"
   ]
  },
  {
   "cell_type": "code",
   "execution_count": 45,
   "id": "f73288dc",
   "metadata": {},
   "outputs": [
    {
     "name": "stdout",
     "output_type": "stream",
     "text": [
      "{122}\n",
      "sepal_length      always\n",
      "sepal_width        check\n",
      "petal_length         the\n",
      "petal_width         data\n",
      "flower          !!!!!!!!\n",
      "Name: 122, dtype: object\n"
     ]
    }
   ],
   "source": [
    "for idx in range(len(df_original)):\n",
    "    row = df_original.iloc[idx]\n",
    "    if any(str(val).isalpha() for val in row if pd.notna(val)):\n",
    "        print({idx})\n",
    "        print(row)\n",
    "\n",
    "        break"
   ]
  },
  {
   "cell_type": "code",
   "execution_count": null,
   "id": "49041a25",
   "metadata": {},
   "outputs": [],
   "source": []
  }
 ],
 "metadata": {
  "kernelspec": {
   "display_name": "ex00",
   "language": "python",
   "name": "python3"
  },
  "language_info": {
   "codemirror_mode": {
    "name": "ipython",
    "version": 3
   },
   "file_extension": ".py",
   "mimetype": "text/x-python",
   "name": "python",
   "nbconvert_exporter": "python",
   "pygments_lexer": "ipython3",
   "version": "3.9.23"
  }
 },
 "nbformat": 4,
 "nbformat_minor": 5
}
